{
 "cells": [
  {
   "cell_type": "markdown",
   "id": "6f189488-347b-4ba5-bbac-bc8fd86632a7",
   "metadata": {},
   "source": [
    "- Scraped Headlines go into pipeline\n",
    "- using transformers from Hugging Face I should decide whether it's positive or not\n",
    "- further train the model based on some financial nuances\n"
   ]
  },
  {
   "cell_type": "code",
   "execution_count": 5,
   "id": "57bd64d9-ad27-4a81-a08a-149d782de6c4",
   "metadata": {},
   "outputs": [],
   "source": [
    "import pandas as pd\n",
    "from vaderSentiment.vaderSentiment import SentimentIntensityAnalyzer"
   ]
  },
  {
   "cell_type": "code",
   "execution_count": 7,
   "id": "5d2ceab8-2c77-45dd-957f-f87ba72cbaf6",
   "metadata": {},
   "outputs": [],
   "source": [
    "# Load the CSV file\n",
    "csv_path = '../data/sp500_headlines_yahoo.csv'\n",
    "headlines_df = pd.read_csv(csv_path)\n",
    "\n",
    "# Initialize the VADER sentiment analyzer\n",
    "analyzer = SentimentIntensityAnalyzer()\n",
    "\n",
    "# Function to analyze sentiment and categorize it\n",
    "def analyze_sentiment(headline):\n",
    "    sentiment = analyzer.polarity_scores(headline)\n",
    "    compound = sentiment['compound']\n",
    "    \n",
    "    # Determine sentiment category\n",
    "    if compound >= 0.05:\n",
    "        return 'Optimistic', sentiment['pos'], sentiment['neu'], sentiment['neg'], compound\n",
    "    elif compound <= -0.05:\n",
    "        return 'Pessimistic', sentiment['pos'], sentiment['neu'], sentiment['neg'], compound\n",
    "    else:\n",
    "        return 'Neutral', sentiment['pos'], sentiment['neu'], sentiment['neg'], compound\n",
    "\n",
    "# Apply sentiment analysis to each headline\n",
    "headlines_df[['Sentiment', 'Positive', 'Neutral', 'Negative', 'Compound']] = headlines_df['Headlines'].apply(lambda x: analyze_sentiment(x)).apply(pd.Series)\n",
    "\n",
    "# Save the results to a new CSV file\n",
    "output_csv_path = '../data/sp500_headlines_sentiment.csv'\n",
    "headlines_df.to_csv(output_csv_path, index=False)"
   ]
  },
  {
   "cell_type": "code",
   "execution_count": null,
   "id": "d83f2270-f957-464e-8c2c-15be7fa825f7",
   "metadata": {},
   "outputs": [],
   "source": []
  }
 ],
 "metadata": {
  "kernelspec": {
   "display_name": "My Data Workfield",
   "language": "python",
   "name": "dataenv"
  },
  "language_info": {
   "codemirror_mode": {
    "name": "ipython",
    "version": 3
   },
   "file_extension": ".py",
   "mimetype": "text/x-python",
   "name": "python",
   "nbconvert_exporter": "python",
   "pygments_lexer": "ipython3",
   "version": "3.9.12"
  }
 },
 "nbformat": 4,
 "nbformat_minor": 5
}
