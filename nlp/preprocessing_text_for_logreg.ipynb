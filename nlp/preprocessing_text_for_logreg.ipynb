{
 "cells": [
  {
   "cell_type": "markdown",
   "id": "074248b7-fe0f-45c9-b9d5-d3e7b5d54030",
   "metadata": {},
   "source": [
    "# Processing Text Data for Logistic Regression with Traditional Methods"
   ]
  },
  {
   "cell_type": "code",
   "execution_count": 3,
   "id": "009c252c-5e36-4a70-89f6-64df1edd76f0",
   "metadata": {},
   "outputs": [],
   "source": [
    "import nltk\n",
    "import re\n",
    "from nltk.corpus import stopwords\n",
    "from nltk.tokenize import word_tokenize\n",
    "from nltk.stem import PorterStemmer, WordNetLemmatizer"
   ]
  },
  {
   "cell_type": "code",
   "execution_count": 5,
   "id": "76f627c9-605a-4031-804d-0f86b837237a",
   "metadata": {},
   "outputs": [
    {
     "name": "stdout",
     "output_type": "stream",
     "text": [
      "showing info https://raw.githubusercontent.com/nltk/nltk_data/gh-pages/index.xml\n"
     ]
    },
    {
     "data": {
      "text/plain": [
       "True"
      ]
     },
     "execution_count": 5,
     "metadata": {},
     "output_type": "execute_result"
    }
   ],
   "source": [
    "nltk.download()"
   ]
  },
  {
   "cell_type": "code",
   "execution_count": 6,
   "id": "51d5a612-6d72-434f-a94d-f508aad1046b",
   "metadata": {},
   "outputs": [
    {
     "name": "stderr",
     "output_type": "stream",
     "text": [
      "[nltk_data] Downloading package punkt_tab to\n",
      "[nltk_data]     /Users/nikitapiko/nltk_data...\n",
      "[nltk_data]   Unzipping tokenizers/punkt_tab.zip.\n",
      "[nltk_data] Downloading package punkt to\n",
      "[nltk_data]     /Users/nikitapiko/nltk_data...\n",
      "[nltk_data]   Package punkt is already up-to-date!\n",
      "[nltk_data] Downloading package stopwords to\n",
      "[nltk_data]     /Users/nikitapiko/nltk_data...\n",
      "[nltk_data]   Package stopwords is already up-to-date!\n",
      "[nltk_data] Downloading package wordnet to\n",
      "[nltk_data]     /Users/nikitapiko/nltk_data...\n",
      "[nltk_data]   Package wordnet is already up-to-date!\n"
     ]
    },
    {
     "data": {
      "text/plain": [
       "True"
      ]
     },
     "execution_count": 6,
     "metadata": {},
     "output_type": "execute_result"
    }
   ],
   "source": [
    "nltk.download('punkt_tab')\n",
    "nltk.download('punkt')\n",
    "nltk.download('stopwords')\n",
    "nltk.download('wordnet')"
   ]
  },
  {
   "cell_type": "code",
   "execution_count": 29,
   "id": "dea148a1-000c-490d-93f5-909440e2f996",
   "metadata": {},
   "outputs": [],
   "source": [
    "stop_words = set(stopwords.words('english'))"
   ]
  },
  {
   "cell_type": "code",
   "execution_count": 30,
   "id": "163755d4-0f57-4c8f-a5be-72bccec23f2e",
   "metadata": {},
   "outputs": [],
   "source": [
    "custom_stop_words = {\"would\", \"could\", \"should\", \"might\", \"also\", \"today\", \"tomorrow\", \"week\", \"year\"}  # Add more if necessary\n",
    "stop_words.update(custom_stop_words)"
   ]
  },
  {
   "cell_type": "code",
   "execution_count": 31,
   "id": "1223f764-9673-4a55-b4e6-6abc47532b26",
   "metadata": {},
   "outputs": [],
   "source": [
    "# Financial terms and symbol replacement\n",
    "symbol_map = {\n",
    "    '%': 'percent',\n",
    "    '$': 'dollars',\n",
    "    '€': 'euros',\n",
    "    '£': 'pounds',\n",
    "    '¥': 'yen',\n",
    "    '&': 'and',\n",
    "    '#': 'number',\n",
    "    'Q1': 'quarter 1',\n",
    "    'Q2': 'quarter 2',\n",
    "    'Q3': 'quarter 3',\n",
    "    'Q4': 'quarter 4',\n",
    "    'H1': 'half 1',\n",
    "    'H2': 'half 2',\n",
    "    'EPS': 'earnings per share',\n",
    "    'EBITDA': 'earnings before interest taxes depreciation and amortization',\n",
    "    'YoY': 'year over year',\n",
    "    'QoQ': 'quarter over quarter',\n",
    "    'up': 'increase',\n",
    "    'down': 'decrease',\n",
    "    'bullish': 'positive',\n",
    "    'bearish': 'negative',\n",
    "    'rally': 'increase',\n",
    "    'plunge': 'decrease',\n",
    "    'soar': 'increase',\n",
    "    'crash': 'decrease',\n",
    "    'rebound': 'recovery',\n",
    "    'dip': 'decrease',\n",
    "    'surge': 'increase'\n",
    "}"
   ]
  },
  {
   "cell_type": "code",
   "execution_count": 35,
   "id": "31da8f52-8f0c-444d-8f3e-96177c6ebecc",
   "metadata": {},
   "outputs": [],
   "source": [
    "# Important financial verbs and adjectives to retain\n",
    "important_terms = {'gain', 'rise', 'increase', 'fall', 'drop', 'decrease', 'improve', 'decline',\n",
    "                   'bullish', 'bearish', 'soar', 'plunge', 'rally', 'rebound', 'crash', 'dip'}"
   ]
  },
  {
   "cell_type": "code",
   "execution_count": 44,
   "id": "7cda6a2b-5994-4b76-9625-8afcda956a43",
   "metadata": {},
   "outputs": [],
   "source": [
    "# Example text\n",
    "text = \"The company's stock price rose by 5% today.\"\n",
    "\n",
    "\n",
    "def preprocess_text(text):\n",
    "    \n",
    "\n",
    "    # symbols handling \n",
    "    for symbol, replacement in symbol_map.items():\n",
    "        text = text.replace(symbol, replacement)\n",
    "\n",
    "    # lowercase\n",
    "    text = text.lower()\n",
    "\n",
    "    # remove punctuation\n",
    "    text = re.sub(r'[^\\w\\s]', '', text)\n",
    "\n",
    "    # print(text)\n",
    "\n",
    "    # Tokenization\n",
    "    tokens = word_tokenize(text)\n",
    "\n",
    "    # print(tokens)\n",
    "\n",
    "    # Stop Words Removal\n",
    "    filtered_tokens = [word for word in tokens if word not in stop_words]\n",
    "\n",
    "    # print(filtered_tokens)\n",
    "\n",
    "    # Stemming (or use Lemmatization)\n",
    "    ps = PorterStemmer()\n",
    "    stemmed_tokens = [ps.stem(word) for word in filtered_tokens]\n",
    "\n",
    "    # print(stemmed_tokens)\n",
    "\n",
    "    # Lemmatization (use this over stemming for better handling of financial terms)\n",
    "    lemmatizer = WordNetLemmatizer()\n",
    "    lemmatized_tokens = [lemmatizer.lemmatize(word, 'v') if word in important_terms else lemmatizer.lemmatize(word) for word in filtered_tokens]\n",
    "\n",
    "    # Combine tokens back into a single string\n",
    "    preprocessed_text = ' '.join(lemmatized_tokens)\n",
    "\n",
    "    # preprocessed_text = ' '.join(stemmed_tokens)  # or for stemmed tokens\n",
    "    # print(preprocessed_text)\n",
    "    \n",
    "    \n",
    "    return preprocessed_text"
   ]
  },
  {
   "cell_type": "code",
   "execution_count": 37,
   "id": "820ec664-45fc-4b2f-a6e4-8e96583b4fcf",
   "metadata": {},
   "outputs": [
    {
     "name": "stdout",
     "output_type": "stream",
     "text": [
      "the companys stock price rose by 5percent today\n",
      "['the', 'companys', 'stock', 'price', 'rose', 'by', '5percent', 'today']\n",
      "['companys', 'stock', 'price', 'rose', '5percent']\n",
      "['compani', 'stock', 'price', 'rose', '5percent']\n",
      "company stock price rose 5percent\n"
     ]
    },
    {
     "data": {
      "text/plain": [
       "'company stock price rose 5percent'"
      ]
     },
     "execution_count": 37,
     "metadata": {},
     "output_type": "execute_result"
    }
   ],
   "source": [
    "preprocess_text(text)"
   ]
  },
  {
   "cell_type": "code",
   "execution_count": 39,
   "id": "384fb463-a886-4375-b302-931d694c5ef4",
   "metadata": {},
   "outputs": [
    {
     "name": "stdout",
     "output_type": "stream",
     "text": [
      "dollars1000 and 5percent increase\n",
      "['dollars1000', 'and', '5percent', 'increase']\n",
      "['dollars1000', '5percent', 'increase']\n",
      "['dollars1000', '5percent', 'increas']\n",
      "dollars1000 5percent increase\n"
     ]
    },
    {
     "data": {
      "text/plain": [
       "'dollars1000 5percent increase'"
      ]
     },
     "execution_count": 39,
     "metadata": {},
     "output_type": "execute_result"
    }
   ],
   "source": [
    "preprocess_text(\"$1000 and 5% up\")"
   ]
  },
  {
   "cell_type": "code",
   "execution_count": 38,
   "id": "b0b59635-159b-48a6-9daa-8eb72587b02c",
   "metadata": {},
   "outputs": [
    {
     "name": "stdout",
     "output_type": "stream",
     "text": [
      "quarter 1 earnings increase 5percent with earnings before interest taxes depreciation and amortization increasing stock price positive\n",
      "['quarter', '1', 'earnings', 'increase', '5percent', 'with', 'earnings', 'before', 'interest', 'taxes', 'depreciation', 'and', 'amortization', 'increasing', 'stock', 'price', 'positive']\n",
      "['quarter', '1', 'earnings', 'increase', '5percent', 'earnings', 'interest', 'taxes', 'depreciation', 'amortization', 'increasing', 'stock', 'price', 'positive']\n",
      "['quarter', '1', 'earn', 'increas', '5percent', 'earn', 'interest', 'tax', 'depreci', 'amort', 'increas', 'stock', 'price', 'posit']\n",
      "quarter 1 earnings increase 5percent earnings interest tax depreciation amortization increasing stock price positive\n"
     ]
    },
    {
     "data": {
      "text/plain": [
       "'quarter 1 earnings increase 5percent earnings interest tax depreciation amortization increasing stock price positive'"
      ]
     },
     "execution_count": 38,
     "metadata": {},
     "output_type": "execute_result"
    }
   ],
   "source": [
    "example_text = \"Q1 earnings up 5% with EBITDA increasing, stock price bullish.\"\n",
    "preprocess_text(example_text)"
   ]
  },
  {
   "cell_type": "code",
   "execution_count": 16,
   "id": "bf91c292-5907-4691-bfeb-f629baed4571",
   "metadata": {},
   "outputs": [],
   "source": [
    "import pandas as pd"
   ]
  },
  {
   "cell_type": "markdown",
   "id": "13d1e679-c5a3-4f9d-a466-ded30f12c50f",
   "metadata": {},
   "source": [
    "### Labeled Data Preprocessing"
   ]
  },
  {
   "cell_type": "code",
   "execution_count": 40,
   "id": "ebcccaaf-038c-4057-bb76-214c446a3302",
   "metadata": {},
   "outputs": [],
   "source": [
    "filepath_labeled = \"../data/labeled_data/merged_labeled_data.csv\""
   ]
  },
  {
   "cell_type": "code",
   "execution_count": 41,
   "id": "8f759a3d-91fe-408c-84ef-d531be9bbd25",
   "metadata": {},
   "outputs": [],
   "source": [
    "df_labeled = pd.read_csv(filepath_labeled)"
   ]
  },
  {
   "cell_type": "code",
   "execution_count": 42,
   "id": "4c6ec8ed-17e8-462b-b14b-1fb19d1d7ac9",
   "metadata": {},
   "outputs": [
    {
     "data": {
      "text/html": [
       "<div>\n",
       "<style scoped>\n",
       "    .dataframe tbody tr th:only-of-type {\n",
       "        vertical-align: middle;\n",
       "    }\n",
       "\n",
       "    .dataframe tbody tr th {\n",
       "        vertical-align: top;\n",
       "    }\n",
       "\n",
       "    .dataframe thead th {\n",
       "        text-align: right;\n",
       "    }\n",
       "</style>\n",
       "<table border=\"1\" class=\"dataframe\">\n",
       "  <thead>\n",
       "    <tr style=\"text-align: right;\">\n",
       "      <th></th>\n",
       "      <th>newsHeadline</th>\n",
       "      <th>sentiment</th>\n",
       "    </tr>\n",
       "  </thead>\n",
       "  <tbody>\n",
       "    <tr>\n",
       "      <th>0</th>\n",
       "      <td>According to Gran , the company has no plans t...</td>\n",
       "      <td>neutral</td>\n",
       "    </tr>\n",
       "    <tr>\n",
       "      <th>1</th>\n",
       "      <td>Technopolis plans to develop in stages an area...</td>\n",
       "      <td>neutral</td>\n",
       "    </tr>\n",
       "    <tr>\n",
       "      <th>2</th>\n",
       "      <td>The international electronic industry company ...</td>\n",
       "      <td>negative</td>\n",
       "    </tr>\n",
       "    <tr>\n",
       "      <th>3</th>\n",
       "      <td>With the new production plant the company woul...</td>\n",
       "      <td>positive</td>\n",
       "    </tr>\n",
       "    <tr>\n",
       "      <th>4</th>\n",
       "      <td>According to the company 's updated strategy f...</td>\n",
       "      <td>positive</td>\n",
       "    </tr>\n",
       "  </tbody>\n",
       "</table>\n",
       "</div>"
      ],
      "text/plain": [
       "                                        newsHeadline sentiment\n",
       "0  According to Gran , the company has no plans t...   neutral\n",
       "1  Technopolis plans to develop in stages an area...   neutral\n",
       "2  The international electronic industry company ...  negative\n",
       "3  With the new production plant the company woul...  positive\n",
       "4  According to the company 's updated strategy f...  positive"
      ]
     },
     "execution_count": 42,
     "metadata": {},
     "output_type": "execute_result"
    }
   ],
   "source": [
    "df_labeled.head()"
   ]
  },
  {
   "cell_type": "code",
   "execution_count": 45,
   "id": "e9439d8d-c5eb-4f3b-b4c0-71e6843f4cda",
   "metadata": {
    "tags": []
   },
   "outputs": [],
   "source": [
    "df_labeled['preprocessed_txt'] = df_labeled['newsHeadline'].apply(preprocess_text)"
   ]
  },
  {
   "cell_type": "code",
   "execution_count": 46,
   "id": "9a99086f-3bf3-46e0-b1d7-a98a8055d26a",
   "metadata": {},
   "outputs": [
    {
     "data": {
      "text/html": [
       "<div>\n",
       "<style scoped>\n",
       "    .dataframe tbody tr th:only-of-type {\n",
       "        vertical-align: middle;\n",
       "    }\n",
       "\n",
       "    .dataframe tbody tr th {\n",
       "        vertical-align: top;\n",
       "    }\n",
       "\n",
       "    .dataframe thead th {\n",
       "        text-align: right;\n",
       "    }\n",
       "</style>\n",
       "<table border=\"1\" class=\"dataframe\">\n",
       "  <thead>\n",
       "    <tr style=\"text-align: right;\">\n",
       "      <th></th>\n",
       "      <th>newsHeadline</th>\n",
       "      <th>sentiment</th>\n",
       "      <th>preprocessed_txt</th>\n",
       "    </tr>\n",
       "  </thead>\n",
       "  <tbody>\n",
       "    <tr>\n",
       "      <th>0</th>\n",
       "      <td>According to Gran , the company has no plans t...</td>\n",
       "      <td>neutral</td>\n",
       "      <td>according gran company plan move production ru...</td>\n",
       "    </tr>\n",
       "    <tr>\n",
       "      <th>1</th>\n",
       "      <td>Technopolis plans to develop in stages an area...</td>\n",
       "      <td>neutral</td>\n",
       "      <td>technopolis plan develop stage area less 10000...</td>\n",
       "    </tr>\n",
       "    <tr>\n",
       "      <th>2</th>\n",
       "      <td>The international electronic industry company ...</td>\n",
       "      <td>negative</td>\n",
       "      <td>international electronic industry company elco...</td>\n",
       "    </tr>\n",
       "    <tr>\n",
       "      <th>3</th>\n",
       "      <td>With the new production plant the company woul...</td>\n",
       "      <td>positive</td>\n",
       "      <td>new production plant company increase capacity...</td>\n",
       "    </tr>\n",
       "    <tr>\n",
       "      <th>4</th>\n",
       "      <td>According to the company 's updated strategy f...</td>\n",
       "      <td>positive</td>\n",
       "      <td>according company increasedated strategy year ...</td>\n",
       "    </tr>\n",
       "  </tbody>\n",
       "</table>\n",
       "</div>"
      ],
      "text/plain": [
       "                                        newsHeadline sentiment  \\\n",
       "0  According to Gran , the company has no plans t...   neutral   \n",
       "1  Technopolis plans to develop in stages an area...   neutral   \n",
       "2  The international electronic industry company ...  negative   \n",
       "3  With the new production plant the company woul...  positive   \n",
       "4  According to the company 's updated strategy f...  positive   \n",
       "\n",
       "                                    preprocessed_txt  \n",
       "0  according gran company plan move production ru...  \n",
       "1  technopolis plan develop stage area less 10000...  \n",
       "2  international electronic industry company elco...  \n",
       "3  new production plant company increase capacity...  \n",
       "4  according company increasedated strategy year ...  "
      ]
     },
     "execution_count": 46,
     "metadata": {},
     "output_type": "execute_result"
    }
   ],
   "source": [
    "df_labeled.head()"
   ]
  },
  {
   "cell_type": "code",
   "execution_count": 47,
   "id": "fc8ca8ba-a866-4aa2-868e-7dd5ec188aab",
   "metadata": {},
   "outputs": [
    {
     "name": "stdout",
     "output_type": "stream",
     "text": [
      "<class 'pandas.core.frame.DataFrame'>\n",
      "RangeIndex: 7110 entries, 0 to 7109\n",
      "Data columns (total 3 columns):\n",
      " #   Column            Non-Null Count  Dtype \n",
      "---  ------            --------------  ----- \n",
      " 0   newsHeadline      7110 non-null   object\n",
      " 1   sentiment         7110 non-null   object\n",
      " 2   preprocessed_txt  7110 non-null   object\n",
      "dtypes: object(3)\n",
      "memory usage: 166.8+ KB\n"
     ]
    }
   ],
   "source": [
    "df_labeled.info()"
   ]
  },
  {
   "cell_type": "markdown",
   "id": "2903f705-6669-4085-b3c3-64c52bfbf674",
   "metadata": {},
   "source": [
    "### Unlabeled Data Preprocessing"
   ]
  },
  {
   "cell_type": "code",
   "execution_count": 48,
   "id": "e130b224-9f8a-44bd-8a97-49ecab523dcb",
   "metadata": {},
   "outputs": [],
   "source": [
    "df_unlabeled = pd.read_csv(\"../data/sp500_headlines_yahoo.csv\")"
   ]
  },
  {
   "cell_type": "code",
   "execution_count": 49,
   "id": "fcf551f1-7e68-41b0-8869-c1a13823a2ae",
   "metadata": {},
   "outputs": [
    {
     "data": {
      "text/html": [
       "<div>\n",
       "<style scoped>\n",
       "    .dataframe tbody tr th:only-of-type {\n",
       "        vertical-align: middle;\n",
       "    }\n",
       "\n",
       "    .dataframe tbody tr th {\n",
       "        vertical-align: top;\n",
       "    }\n",
       "\n",
       "    .dataframe thead th {\n",
       "        text-align: right;\n",
       "    }\n",
       "</style>\n",
       "<table border=\"1\" class=\"dataframe\">\n",
       "  <thead>\n",
       "    <tr style=\"text-align: right;\">\n",
       "      <th></th>\n",
       "      <th>Headlines</th>\n",
       "    </tr>\n",
       "  </thead>\n",
       "  <tbody>\n",
       "    <tr>\n",
       "      <th>0</th>\n",
       "      <td>Inflation data, retail sales, Walmart earnings...</td>\n",
       "    </tr>\n",
       "    <tr>\n",
       "      <th>1</th>\n",
       "      <td>Whipsaw week for stocks leaves markets 'on edg...</td>\n",
       "    </tr>\n",
       "    <tr>\n",
       "      <th>2</th>\n",
       "      <td>Down Between 12% and 24% From Their 52-Week Hi...</td>\n",
       "    </tr>\n",
       "    <tr>\n",
       "      <th>3</th>\n",
       "      <td>Traders Bet on Wild Swings With CPI Print Set ...</td>\n",
       "    </tr>\n",
       "    <tr>\n",
       "      <th>4</th>\n",
       "      <td>Down 60% This Year, Is Intel Stock a Bargain Buy?</td>\n",
       "    </tr>\n",
       "  </tbody>\n",
       "</table>\n",
       "</div>"
      ],
      "text/plain": [
       "                                           Headlines\n",
       "0  Inflation data, retail sales, Walmart earnings...\n",
       "1  Whipsaw week for stocks leaves markets 'on edg...\n",
       "2  Down Between 12% and 24% From Their 52-Week Hi...\n",
       "3  Traders Bet on Wild Swings With CPI Print Set ...\n",
       "4  Down 60% This Year, Is Intel Stock a Bargain Buy?"
      ]
     },
     "execution_count": 49,
     "metadata": {},
     "output_type": "execute_result"
    }
   ],
   "source": [
    "df_unlabeled.head()"
   ]
  },
  {
   "cell_type": "code",
   "execution_count": 50,
   "id": "c0618b9d-6328-4fa1-9fd2-f684d134fd91",
   "metadata": {},
   "outputs": [],
   "source": [
    "df_unlabeled['preprocessed_txt'] = df_unlabeled['Headlines'].apply(preprocess_text)"
   ]
  },
  {
   "cell_type": "code",
   "execution_count": 51,
   "id": "a53fb130-b60b-41ea-a1fc-1de8d8e80c1b",
   "metadata": {},
   "outputs": [
    {
     "data": {
      "text/html": [
       "<div>\n",
       "<style scoped>\n",
       "    .dataframe tbody tr th:only-of-type {\n",
       "        vertical-align: middle;\n",
       "    }\n",
       "\n",
       "    .dataframe tbody tr th {\n",
       "        vertical-align: top;\n",
       "    }\n",
       "\n",
       "    .dataframe thead th {\n",
       "        text-align: right;\n",
       "    }\n",
       "</style>\n",
       "<table border=\"1\" class=\"dataframe\">\n",
       "  <thead>\n",
       "    <tr style=\"text-align: right;\">\n",
       "      <th></th>\n",
       "      <th>Headlines</th>\n",
       "      <th>preprocessed_txt</th>\n",
       "    </tr>\n",
       "  </thead>\n",
       "  <tbody>\n",
       "    <tr>\n",
       "      <th>0</th>\n",
       "      <td>Inflation data, retail sales, Walmart earnings...</td>\n",
       "      <td>inflation data retail sale walmart earnings aw...</td>\n",
       "    </tr>\n",
       "    <tr>\n",
       "      <th>1</th>\n",
       "      <td>Whipsaw week for stocks leaves markets 'on edg...</td>\n",
       "      <td>whipsaw stock leaf market edge ahead busy econ...</td>\n",
       "    </tr>\n",
       "    <tr>\n",
       "      <th>2</th>\n",
       "      <td>Down Between 12% and 24% From Their 52-Week Hi...</td>\n",
       "      <td>12percent 24percent 52week high 3 magnificent ...</td>\n",
       "    </tr>\n",
       "    <tr>\n",
       "      <th>3</th>\n",
       "      <td>Traders Bet on Wild Swings With CPI Print Set ...</td>\n",
       "      <td>trader bet wild swing cpi print set test market</td>\n",
       "    </tr>\n",
       "    <tr>\n",
       "      <th>4</th>\n",
       "      <td>Down 60% This Year, Is Intel Stock a Bargain Buy?</td>\n",
       "      <td>60percent intel stock bargain buy</td>\n",
       "    </tr>\n",
       "  </tbody>\n",
       "</table>\n",
       "</div>"
      ],
      "text/plain": [
       "                                           Headlines  \\\n",
       "0  Inflation data, retail sales, Walmart earnings...   \n",
       "1  Whipsaw week for stocks leaves markets 'on edg...   \n",
       "2  Down Between 12% and 24% From Their 52-Week Hi...   \n",
       "3  Traders Bet on Wild Swings With CPI Print Set ...   \n",
       "4  Down 60% This Year, Is Intel Stock a Bargain Buy?   \n",
       "\n",
       "                                    preprocessed_txt  \n",
       "0  inflation data retail sale walmart earnings aw...  \n",
       "1  whipsaw stock leaf market edge ahead busy econ...  \n",
       "2  12percent 24percent 52week high 3 magnificent ...  \n",
       "3    trader bet wild swing cpi print set test market  \n",
       "4                  60percent intel stock bargain buy  "
      ]
     },
     "execution_count": 51,
     "metadata": {},
     "output_type": "execute_result"
    }
   ],
   "source": [
    "df_unlabeled.head()"
   ]
  },
  {
   "cell_type": "markdown",
   "id": "b68292ba-673e-4ac0-b16a-f57104ee9430",
   "metadata": {},
   "source": [
    "#### Saving to CSV"
   ]
  },
  {
   "cell_type": "code",
   "execution_count": 53,
   "id": "f79dd8fd-a361-4829-be15-b2391382e9ed",
   "metadata": {},
   "outputs": [],
   "source": [
    "df_labeled.to_csv(\"../data/processed/processed_labeled_data.csv\", index=False)"
   ]
  },
  {
   "cell_type": "code",
   "execution_count": 54,
   "id": "0d44937c-9165-4e66-a1b9-5d148f80c705",
   "metadata": {},
   "outputs": [],
   "source": [
    "df_unlabeled.to_csv(\"../data/processed/processed_spx500_unlabeled_data.csv\", index=False)"
   ]
  },
  {
   "cell_type": "code",
   "execution_count": null,
   "id": "9f8758eb-748e-4888-b675-9b97be79e716",
   "metadata": {},
   "outputs": [],
   "source": []
  }
 ],
 "metadata": {
  "kernelspec": {
   "display_name": "My Data Workfield",
   "language": "python",
   "name": "dataenv"
  },
  "language_info": {
   "codemirror_mode": {
    "name": "ipython",
    "version": 3
   },
   "file_extension": ".py",
   "mimetype": "text/x-python",
   "name": "python",
   "nbconvert_exporter": "python",
   "pygments_lexer": "ipython3",
   "version": "3.9.12"
  }
 },
 "nbformat": 4,
 "nbformat_minor": 5
}
