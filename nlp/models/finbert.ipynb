{
 "cells": [
  {
   "cell_type": "markdown",
   "id": "1d07ebe4-399d-4a29-99bf-dfa440d67d3d",
   "metadata": {},
   "source": [
    "also try DeBERT"
   ]
  },
  {
   "cell_type": "code",
   "execution_count": 2,
   "id": "cc93b6ae-793c-435f-808c-d17bfaeb0f09",
   "metadata": {},
   "outputs": [],
   "source": [
    "import pandas as pd"
   ]
  },
  {
   "cell_type": "code",
   "execution_count": 1,
   "id": "a9f5fdd0-d010-4502-8006-e9bbb8aa5f36",
   "metadata": {},
   "outputs": [
    {
     "name": "stderr",
     "output_type": "stream",
     "text": [
      "2024-08-30 11:25:28.124504: I tensorflow/core/platform/cpu_feature_guard.cc:182] This TensorFlow binary is optimized to use available CPU instructions in performance-critical operations.\n",
      "To enable the following instructions: AVX2 FMA, in other operations, rebuild TensorFlow with the appropriate compiler flags.\n"
     ]
    }
   ],
   "source": [
    "import pandas as pd\n",
    "from transformers import BertTokenizer, BertForSequenceClassification, Trainer, TrainingArguments\n",
    "from sklearn.model_selection import train_test_split\n",
    "from datasets import Dataset"
   ]
  },
  {
   "cell_type": "markdown",
   "id": "7023f13a-20f3-4ffd-924b-d1a4b0992750",
   "metadata": {},
   "source": [
    "### Loading in DataFrames"
   ]
  },
  {
   "cell_type": "code",
   "execution_count": 3,
   "id": "4cb4d160-2535-41cd-8d63-767c978f2ad1",
   "metadata": {},
   "outputs": [],
   "source": [
    "filepath_labeled = \"../data/processed/processed_for_finbert_labeled_data.csv\"\n",
    "filepath_unlabeled = \"../data/processed/processed_for_finbert_spx500_unlabeled_data.csv\""
   ]
  },
  {
   "cell_type": "code",
   "execution_count": 4,
   "id": "96fb9ebc-4578-42a5-b2e0-da1a2d59ed27",
   "metadata": {},
   "outputs": [],
   "source": [
    "df_labeled = pd.read_csv(filepath_labeled)\n",
    "df_unlabeled = pd.read_csv(filepath_unlabeled)"
   ]
  },
  {
   "cell_type": "code",
   "execution_count": 10,
   "id": "2f32efe5-9ee2-4013-b2cf-0bc421d31247",
   "metadata": {},
   "outputs": [],
   "source": [
    "# Define a mapping from sentiment labels to numerical values\n",
    "label_map = {\"negative\": 0, \"neutral\": 1, \"positive\": 2}\n",
    "\n",
    "# Apply the mapping to the 'sentiment' column in the labeled dataframe\n",
    "df_labeled['encoded_sentiment'] = df_labeled['sentiment'].map(label_map)"
   ]
  },
  {
   "cell_type": "code",
   "execution_count": 11,
   "id": "2eb5c493-b726-4086-b83b-2e109f84dcf1",
   "metadata": {},
   "outputs": [
    {
     "data": {
      "text/html": [
       "<div>\n",
       "<style scoped>\n",
       "    .dataframe tbody tr th:only-of-type {\n",
       "        vertical-align: middle;\n",
       "    }\n",
       "\n",
       "    .dataframe tbody tr th {\n",
       "        vertical-align: top;\n",
       "    }\n",
       "\n",
       "    .dataframe thead th {\n",
       "        text-align: right;\n",
       "    }\n",
       "</style>\n",
       "<table border=\"1\" class=\"dataframe\">\n",
       "  <thead>\n",
       "    <tr style=\"text-align: right;\">\n",
       "      <th></th>\n",
       "      <th>newsHeadline</th>\n",
       "      <th>sentiment</th>\n",
       "      <th>processed_txt</th>\n",
       "      <th>encoded_sentiment</th>\n",
       "    </tr>\n",
       "  </thead>\n",
       "  <tbody>\n",
       "    <tr>\n",
       "      <th>0</th>\n",
       "      <td>According to Gran , the company has no plans t...</td>\n",
       "      <td>neutral</td>\n",
       "      <td>According to Gran , the company has no plans t...</td>\n",
       "      <td>1</td>\n",
       "    </tr>\n",
       "    <tr>\n",
       "      <th>1</th>\n",
       "      <td>Technopolis plans to develop in stages an area...</td>\n",
       "      <td>neutral</td>\n",
       "      <td>Technopolis plans to develop in stages an area...</td>\n",
       "      <td>1</td>\n",
       "    </tr>\n",
       "    <tr>\n",
       "      <th>2</th>\n",
       "      <td>The international electronic industry company ...</td>\n",
       "      <td>negative</td>\n",
       "      <td>The international electronic industry company ...</td>\n",
       "      <td>0</td>\n",
       "    </tr>\n",
       "  </tbody>\n",
       "</table>\n",
       "</div>"
      ],
      "text/plain": [
       "                                        newsHeadline sentiment  \\\n",
       "0  According to Gran , the company has no plans t...   neutral   \n",
       "1  Technopolis plans to develop in stages an area...   neutral   \n",
       "2  The international electronic industry company ...  negative   \n",
       "\n",
       "                                       processed_txt  encoded_sentiment  \n",
       "0  According to Gran , the company has no plans t...                  1  \n",
       "1  Technopolis plans to develop in stages an area...                  1  \n",
       "2  The international electronic industry company ...                  0  "
      ]
     },
     "execution_count": 11,
     "metadata": {},
     "output_type": "execute_result"
    }
   ],
   "source": [
    "df_labeled.head(3)"
   ]
  },
  {
   "cell_type": "code",
   "execution_count": 6,
   "id": "d99dfc86-e0c0-43d1-9f38-6edc7007d5d8",
   "metadata": {},
   "outputs": [
    {
     "data": {
      "text/html": [
       "<div>\n",
       "<style scoped>\n",
       "    .dataframe tbody tr th:only-of-type {\n",
       "        vertical-align: middle;\n",
       "    }\n",
       "\n",
       "    .dataframe tbody tr th {\n",
       "        vertical-align: top;\n",
       "    }\n",
       "\n",
       "    .dataframe thead th {\n",
       "        text-align: right;\n",
       "    }\n",
       "</style>\n",
       "<table border=\"1\" class=\"dataframe\">\n",
       "  <thead>\n",
       "    <tr style=\"text-align: right;\">\n",
       "      <th></th>\n",
       "      <th>newsHeadline</th>\n",
       "      <th>processed_txt</th>\n",
       "    </tr>\n",
       "  </thead>\n",
       "  <tbody>\n",
       "    <tr>\n",
       "      <th>0</th>\n",
       "      <td>Inflation data, retail sales, Walmart earnings...</td>\n",
       "      <td>Inflation data, retail sales, Walmart earnings...</td>\n",
       "    </tr>\n",
       "    <tr>\n",
       "      <th>1</th>\n",
       "      <td>Whipsaw week for stocks leaves markets 'on edg...</td>\n",
       "      <td>Whipsaw week for stocks leaves markets 'on edg...</td>\n",
       "    </tr>\n",
       "    <tr>\n",
       "      <th>2</th>\n",
       "      <td>Down Between 12% and 24% From Their 52-Week Hi...</td>\n",
       "      <td>Down Between 12% and 24% From Their 52-Week Hi...</td>\n",
       "    </tr>\n",
       "  </tbody>\n",
       "</table>\n",
       "</div>"
      ],
      "text/plain": [
       "                                        newsHeadline  \\\n",
       "0  Inflation data, retail sales, Walmart earnings...   \n",
       "1  Whipsaw week for stocks leaves markets 'on edg...   \n",
       "2  Down Between 12% and 24% From Their 52-Week Hi...   \n",
       "\n",
       "                                       processed_txt  \n",
       "0  Inflation data, retail sales, Walmart earnings...  \n",
       "1  Whipsaw week for stocks leaves markets 'on edg...  \n",
       "2  Down Between 12% and 24% From Their 52-Week Hi...  "
      ]
     },
     "execution_count": 6,
     "metadata": {},
     "output_type": "execute_result"
    }
   ],
   "source": [
    "df_unlabeled.head(3)"
   ]
  },
  {
   "cell_type": "markdown",
   "id": "3cdfa252-292a-4b7f-b5db-64f8519ed729",
   "metadata": {},
   "source": [
    "### Fine-tuning FinBERT"
   ]
  },
  {
   "cell_type": "code",
   "execution_count": 2,
   "id": "91a0795f-630a-48f1-a461-1d8ff22a38b9",
   "metadata": {},
   "outputs": [
    {
     "name": "stderr",
     "output_type": "stream",
     "text": [
      "/Users/nikitapiko/Documents/University/WU Wien/SBWL/Data Science/dataenv/lib/python3.9/site-packages/huggingface_hub/file_download.py:1150: FutureWarning: `resume_download` is deprecated and will be removed in version 1.0.0. Downloads always resume when possible. If you want to force a new download, use `force_download=True`.\n",
      "  warnings.warn(\n"
     ]
    },
    {
     "data": {
      "application/vnd.jupyter.widget-view+json": {
       "model_id": "6bf44f4d73fc47c3aff398c6560a0cc7",
       "version_major": 2,
       "version_minor": 0
      },
      "text/plain": [
       "vocab.txt:   0%|          | 0.00/226k [00:00<?, ?B/s]"
      ]
     },
     "metadata": {},
     "output_type": "display_data"
    },
    {
     "data": {
      "application/vnd.jupyter.widget-view+json": {
       "model_id": "f6b70fdb54db4285a1d89160fc0db854",
       "version_major": 2,
       "version_minor": 0
      },
      "text/plain": [
       "config.json:   0%|          | 0.00/533 [00:00<?, ?B/s]"
      ]
     },
     "metadata": {},
     "output_type": "display_data"
    },
    {
     "data": {
      "application/vnd.jupyter.widget-view+json": {
       "model_id": "fa6106a176d74335ac30ba7791beccc1",
       "version_major": 2,
       "version_minor": 0
      },
      "text/plain": [
       "pytorch_model.bin:   0%|          | 0.00/439M [00:00<?, ?B/s]"
      ]
     },
     "metadata": {},
     "output_type": "display_data"
    }
   ],
   "source": [
    "# Load pre-trained FinBERT\n",
    "tokenizer = BertTokenizer.from_pretrained('yiyanghkust/finbert-tone')\n",
    "model = BertForSequenceClassification.from_pretrained('yiyanghkust/finbert-tone')"
   ]
  },
  {
   "cell_type": "code",
   "execution_count": 12,
   "id": "a7e33b6b-6322-4e9f-b7e2-b8ebf101e7d2",
   "metadata": {},
   "outputs": [],
   "source": [
    "# Encode the labeled dataset\n",
    "train_texts, val_texts, train_labels, val_labels = train_test_split(\n",
    "    df_labeled['processed_txt'].tolist(), \n",
    "    df_labeled['encoded_sentiment'].tolist(), \n",
    "    test_size=0.2, \n",
    "    random_state=42\n",
    ")"
   ]
  },
  {
   "cell_type": "code",
   "execution_count": 17,
   "id": "06855aca-b6cf-4e13-a235-f6f073bc4c4e",
   "metadata": {},
   "outputs": [],
   "source": [
    "# Set the maximum length to 512 tokens (standard for BERT-based models)\n",
    "MAX_LENGTH = 512"
   ]
  },
  {
   "cell_type": "code",
   "execution_count": 18,
   "id": "cad47bda-70ed-4e9d-9ca5-00c30ecc9e5d",
   "metadata": {},
   "outputs": [],
   "source": [
    "# Encode the labeled dataset with truncation and padding\n",
    "train_encodings = tokenizer(train_texts, truncation=True, padding=True, max_length=MAX_LENGTH)\n",
    "val_encodings = tokenizer(val_texts, truncation=True, padding=True, max_length=MAX_LENGTH)"
   ]
  },
  {
   "cell_type": "code",
   "execution_count": 19,
   "id": "0baac476-3e02-4c52-b0e1-011e14d70ff1",
   "metadata": {},
   "outputs": [],
   "source": [
    "train_dataset = Dataset.from_dict({\n",
    "    'input_ids': train_encodings['input_ids'],\n",
    "    'attention_mask': train_encodings['attention_mask'],\n",
    "    'labels': train_labels  # These should be numerical\n",
    "})\n",
    "\n",
    "val_dataset = Dataset.from_dict({\n",
    "    'input_ids': val_encodings['input_ids'],\n",
    "    'attention_mask': val_encodings['attention_mask'],\n",
    "    'labels': val_labels  # These should be numerical\n",
    "})"
   ]
  },
  {
   "cell_type": "code",
   "execution_count": 22,
   "id": "59eb4985-e9b2-4af1-a9d5-b9d08b8ff50c",
   "metadata": {},
   "outputs": [
    {
     "name": "stderr",
     "output_type": "stream",
     "text": [
      "PyTorch: setting up devices\n",
      "The default value for the training argument `--report_to` will change in v5 (from all installed integrations to none). In v5, you will need to use `--report_to all` to get the same behavior as now. You should start updating your code and make this info disappear :-).\n"
     ]
    }
   ],
   "source": [
    "# Define training arguments with logging\n",
    "training_args = TrainingArguments(\n",
    "    output_dir='./results',            # output directory\n",
    "    num_train_epochs=3,                # number of training epochs\n",
    "    per_device_train_batch_size=16,    # batch size per device during training\n",
    "    per_device_eval_batch_size=16,     # batch size for evaluation\n",
    "    warmup_steps=500,                  # number of warmup steps for learning rate scheduler\n",
    "    weight_decay=0.01,                 # strength of weight decay\n",
    "    logging_dir='./logs',              # directory for storing logs\n",
    "    logging_steps=10,                  # log every 10 steps\n",
    "    evaluation_strategy=\"steps\",       # evaluate at each logging step\n",
    "    eval_steps=50,                     # evaluate every 50 steps\n",
    "    save_steps=100,                    # save checkpoint every 100 steps\n",
    "    save_total_limit=2,                # limit total amount of checkpoints\n",
    "    load_best_model_at_end=True,       # load the best model when finished training (great for early stopping)\n",
    ")"
   ]
  },
  {
   "cell_type": "code",
   "execution_count": 23,
   "id": "fc134afc-c513-4c40-b902-77ecb1942776",
   "metadata": {},
   "outputs": [],
   "source": [
    "# Initialize Trainer\n",
    "trainer = Trainer(\n",
    "    model=model,\n",
    "    args=training_args,\n",
    "    train_dataset=train_dataset,\n",
    "    eval_dataset=val_dataset\n",
    ")"
   ]
  },
  {
   "cell_type": "code",
   "execution_count": 24,
   "id": "6511d65b-7e91-4630-aac1-b74192c707ea",
   "metadata": {},
   "outputs": [
    {
     "name": "stderr",
     "output_type": "stream",
     "text": [
      "/Users/nikitapiko/Documents/University/WU Wien/SBWL/Data Science/dataenv/lib/python3.9/site-packages/transformers/optimization.py:306: FutureWarning: This implementation of AdamW is deprecated and will be removed in a future version. Use the PyTorch implementation torch.optim.AdamW instead, or set `no_deprecation_warning=True` to disable this warning\n",
      "  warnings.warn(\n",
      "***** Running training *****\n",
      "  Num examples = 5688\n",
      "  Num Epochs = 3\n",
      "  Instantaneous batch size per device = 16\n",
      "  Total train batch size (w. parallel, distributed & accumulation) = 16\n",
      "  Gradient Accumulation steps = 1\n",
      "  Total optimization steps = 1068\n"
     ]
    },
    {
     "data": {
      "text/html": [
       "\n",
       "    <div>\n",
       "      \n",
       "      <progress value='1068' max='1068' style='width:300px; height:20px; vertical-align: middle;'></progress>\n",
       "      [1068/1068 3:27:48, Epoch 3/3]\n",
       "    </div>\n",
       "    <table border=\"1\" class=\"dataframe\">\n",
       "  <thead>\n",
       " <tr style=\"text-align: left;\">\n",
       "      <th>Step</th>\n",
       "      <th>Training Loss</th>\n",
       "      <th>Validation Loss</th>\n",
       "    </tr>\n",
       "  </thead>\n",
       "  <tbody>\n",
       "    <tr>\n",
       "      <td>50</td>\n",
       "      <td>3.391600</td>\n",
       "      <td>3.215135</td>\n",
       "    </tr>\n",
       "    <tr>\n",
       "      <td>100</td>\n",
       "      <td>0.958200</td>\n",
       "      <td>0.752151</td>\n",
       "    </tr>\n",
       "    <tr>\n",
       "      <td>150</td>\n",
       "      <td>0.650400</td>\n",
       "      <td>0.529844</td>\n",
       "    </tr>\n",
       "    <tr>\n",
       "      <td>200</td>\n",
       "      <td>0.453100</td>\n",
       "      <td>0.447301</td>\n",
       "    </tr>\n",
       "    <tr>\n",
       "      <td>250</td>\n",
       "      <td>0.488700</td>\n",
       "      <td>0.338261</td>\n",
       "    </tr>\n",
       "    <tr>\n",
       "      <td>300</td>\n",
       "      <td>0.457400</td>\n",
       "      <td>0.352095</td>\n",
       "    </tr>\n",
       "    <tr>\n",
       "      <td>350</td>\n",
       "      <td>0.309100</td>\n",
       "      <td>0.318879</td>\n",
       "    </tr>\n",
       "    <tr>\n",
       "      <td>400</td>\n",
       "      <td>0.199100</td>\n",
       "      <td>0.380845</td>\n",
       "    </tr>\n",
       "    <tr>\n",
       "      <td>450</td>\n",
       "      <td>0.373300</td>\n",
       "      <td>0.473788</td>\n",
       "    </tr>\n",
       "    <tr>\n",
       "      <td>500</td>\n",
       "      <td>0.252000</td>\n",
       "      <td>0.345929</td>\n",
       "    </tr>\n",
       "    <tr>\n",
       "      <td>550</td>\n",
       "      <td>0.257200</td>\n",
       "      <td>0.307388</td>\n",
       "    </tr>\n",
       "    <tr>\n",
       "      <td>600</td>\n",
       "      <td>0.193800</td>\n",
       "      <td>0.344175</td>\n",
       "    </tr>\n",
       "    <tr>\n",
       "      <td>650</td>\n",
       "      <td>0.275400</td>\n",
       "      <td>0.280242</td>\n",
       "    </tr>\n",
       "    <tr>\n",
       "      <td>700</td>\n",
       "      <td>0.201800</td>\n",
       "      <td>0.516034</td>\n",
       "    </tr>\n",
       "    <tr>\n",
       "      <td>750</td>\n",
       "      <td>0.094500</td>\n",
       "      <td>0.460029</td>\n",
       "    </tr>\n",
       "    <tr>\n",
       "      <td>800</td>\n",
       "      <td>0.160900</td>\n",
       "      <td>0.385408</td>\n",
       "    </tr>\n",
       "    <tr>\n",
       "      <td>850</td>\n",
       "      <td>0.075900</td>\n",
       "      <td>0.458009</td>\n",
       "    </tr>\n",
       "    <tr>\n",
       "      <td>900</td>\n",
       "      <td>0.115400</td>\n",
       "      <td>0.444020</td>\n",
       "    </tr>\n",
       "    <tr>\n",
       "      <td>950</td>\n",
       "      <td>0.103800</td>\n",
       "      <td>0.502809</td>\n",
       "    </tr>\n",
       "    <tr>\n",
       "      <td>1000</td>\n",
       "      <td>0.055200</td>\n",
       "      <td>0.468144</td>\n",
       "    </tr>\n",
       "    <tr>\n",
       "      <td>1050</td>\n",
       "      <td>0.094900</td>\n",
       "      <td>0.450651</td>\n",
       "    </tr>\n",
       "  </tbody>\n",
       "</table><p>"
      ],
      "text/plain": [
       "<IPython.core.display.HTML object>"
      ]
     },
     "metadata": {},
     "output_type": "display_data"
    },
    {
     "name": "stderr",
     "output_type": "stream",
     "text": [
      "***** Running Evaluation *****\n",
      "  Num examples = 1422\n",
      "  Batch size = 16\n",
      "***** Running Evaluation *****\n",
      "  Num examples = 1422\n",
      "  Batch size = 16\n",
      "Saving model checkpoint to ./results/checkpoint-100\n",
      "Configuration saved in ./results/checkpoint-100/config.json\n",
      "Model weights saved in ./results/checkpoint-100/pytorch_model.bin\n",
      "***** Running Evaluation *****\n",
      "  Num examples = 1422\n",
      "  Batch size = 16\n",
      "***** Running Evaluation *****\n",
      "  Num examples = 1422\n",
      "  Batch size = 16\n",
      "Saving model checkpoint to ./results/checkpoint-200\n",
      "Configuration saved in ./results/checkpoint-200/config.json\n",
      "Model weights saved in ./results/checkpoint-200/pytorch_model.bin\n",
      "***** Running Evaluation *****\n",
      "  Num examples = 1422\n",
      "  Batch size = 16\n",
      "***** Running Evaluation *****\n",
      "  Num examples = 1422\n",
      "  Batch size = 16\n",
      "Saving model checkpoint to ./results/checkpoint-300\n",
      "Configuration saved in ./results/checkpoint-300/config.json\n",
      "Model weights saved in ./results/checkpoint-300/pytorch_model.bin\n",
      "Deleting older checkpoint [results/checkpoint-100] due to args.save_total_limit\n",
      "***** Running Evaluation *****\n",
      "  Num examples = 1422\n",
      "  Batch size = 16\n",
      "***** Running Evaluation *****\n",
      "  Num examples = 1422\n",
      "  Batch size = 16\n",
      "Saving model checkpoint to ./results/checkpoint-400\n",
      "Configuration saved in ./results/checkpoint-400/config.json\n",
      "Model weights saved in ./results/checkpoint-400/pytorch_model.bin\n",
      "Deleting older checkpoint [results/checkpoint-200] due to args.save_total_limit\n",
      "***** Running Evaluation *****\n",
      "  Num examples = 1422\n",
      "  Batch size = 16\n",
      "***** Running Evaluation *****\n",
      "  Num examples = 1422\n",
      "  Batch size = 16\n",
      "Saving model checkpoint to ./results/checkpoint-500\n",
      "Configuration saved in ./results/checkpoint-500/config.json\n",
      "Model weights saved in ./results/checkpoint-500/pytorch_model.bin\n",
      "Deleting older checkpoint [results/checkpoint-300] due to args.save_total_limit\n",
      "***** Running Evaluation *****\n",
      "  Num examples = 1422\n",
      "  Batch size = 16\n",
      "***** Running Evaluation *****\n",
      "  Num examples = 1422\n",
      "  Batch size = 16\n",
      "Saving model checkpoint to ./results/checkpoint-600\n",
      "Configuration saved in ./results/checkpoint-600/config.json\n",
      "Model weights saved in ./results/checkpoint-600/pytorch_model.bin\n",
      "Deleting older checkpoint [results/checkpoint-400] due to args.save_total_limit\n",
      "***** Running Evaluation *****\n",
      "  Num examples = 1422\n",
      "  Batch size = 16\n",
      "***** Running Evaluation *****\n",
      "  Num examples = 1422\n",
      "  Batch size = 16\n",
      "Saving model checkpoint to ./results/checkpoint-700\n",
      "Configuration saved in ./results/checkpoint-700/config.json\n",
      "Model weights saved in ./results/checkpoint-700/pytorch_model.bin\n",
      "Deleting older checkpoint [results/checkpoint-500] due to args.save_total_limit\n",
      "***** Running Evaluation *****\n",
      "  Num examples = 1422\n",
      "  Batch size = 16\n",
      "***** Running Evaluation *****\n",
      "  Num examples = 1422\n",
      "  Batch size = 16\n",
      "Saving model checkpoint to ./results/checkpoint-800\n",
      "Configuration saved in ./results/checkpoint-800/config.json\n",
      "Model weights saved in ./results/checkpoint-800/pytorch_model.bin\n",
      "Deleting older checkpoint [results/checkpoint-700] due to args.save_total_limit\n",
      "***** Running Evaluation *****\n",
      "  Num examples = 1422\n",
      "  Batch size = 16\n",
      "***** Running Evaluation *****\n",
      "  Num examples = 1422\n",
      "  Batch size = 16\n",
      "Saving model checkpoint to ./results/checkpoint-900\n",
      "Configuration saved in ./results/checkpoint-900/config.json\n",
      "Model weights saved in ./results/checkpoint-900/pytorch_model.bin\n",
      "Deleting older checkpoint [results/checkpoint-800] due to args.save_total_limit\n",
      "***** Running Evaluation *****\n",
      "  Num examples = 1422\n",
      "  Batch size = 16\n",
      "***** Running Evaluation *****\n",
      "  Num examples = 1422\n",
      "  Batch size = 16\n",
      "Saving model checkpoint to ./results/checkpoint-1000\n",
      "Configuration saved in ./results/checkpoint-1000/config.json\n",
      "Model weights saved in ./results/checkpoint-1000/pytorch_model.bin\n",
      "Deleting older checkpoint [results/checkpoint-900] due to args.save_total_limit\n",
      "***** Running Evaluation *****\n",
      "  Num examples = 1422\n",
      "  Batch size = 16\n",
      "\n",
      "\n",
      "Training completed. Do not forget to share your model on huggingface.co/models =)\n",
      "\n",
      "\n",
      "Loading best model from ./results/checkpoint-600 (score: 0.34417545795440674).\n"
     ]
    },
    {
     "data": {
      "text/plain": [
       "TrainOutput(global_step=1068, training_loss=0.7119130513418034, metrics={'train_runtime': 12474.3657, 'train_samples_per_second': 1.368, 'train_steps_per_second': 0.086, 'total_flos': 1175056301278944.0, 'train_loss': 0.7119130513418034, 'epoch': 3.0})"
      ]
     },
     "execution_count": 24,
     "metadata": {},
     "output_type": "execute_result"
    }
   ],
   "source": [
    "# Train the model\n",
    "trainer.train()"
   ]
  },
  {
   "cell_type": "code",
   "execution_count": null,
   "id": "76d62909-6e9b-4924-969e-dd8d78817ba7",
   "metadata": {},
   "outputs": [],
   "source": []
  },
  {
   "cell_type": "code",
   "execution_count": 28,
   "id": "eec4f605-9030-4b31-904e-76ed24e135c4",
   "metadata": {},
   "outputs": [
    {
     "data": {
      "text/html": [
       "<div>\n",
       "<style scoped>\n",
       "    .dataframe tbody tr th:only-of-type {\n",
       "        vertical-align: middle;\n",
       "    }\n",
       "\n",
       "    .dataframe tbody tr th {\n",
       "        vertical-align: top;\n",
       "    }\n",
       "\n",
       "    .dataframe thead th {\n",
       "        text-align: right;\n",
       "    }\n",
       "</style>\n",
       "<table border=\"1\" class=\"dataframe\">\n",
       "  <thead>\n",
       "    <tr style=\"text-align: right;\">\n",
       "      <th></th>\n",
       "      <th>newsHeadline</th>\n",
       "      <th>processed_txt</th>\n",
       "    </tr>\n",
       "  </thead>\n",
       "  <tbody>\n",
       "    <tr>\n",
       "      <th>0</th>\n",
       "      <td>Inflation data, retail sales, Walmart earnings...</td>\n",
       "      <td>Inflation data, retail sales, Walmart earnings...</td>\n",
       "    </tr>\n",
       "    <tr>\n",
       "      <th>1</th>\n",
       "      <td>Whipsaw week for stocks leaves markets 'on edg...</td>\n",
       "      <td>Whipsaw week for stocks leaves markets 'on edg...</td>\n",
       "    </tr>\n",
       "    <tr>\n",
       "      <th>2</th>\n",
       "      <td>Down Between 12% and 24% From Their 52-Week Hi...</td>\n",
       "      <td>Down Between 12% and 24% From Their 52-Week Hi...</td>\n",
       "    </tr>\n",
       "  </tbody>\n",
       "</table>\n",
       "</div>"
      ],
      "text/plain": [
       "                                        newsHeadline  \\\n",
       "0  Inflation data, retail sales, Walmart earnings...   \n",
       "1  Whipsaw week for stocks leaves markets 'on edg...   \n",
       "2  Down Between 12% and 24% From Their 52-Week Hi...   \n",
       "\n",
       "                                       processed_txt  \n",
       "0  Inflation data, retail sales, Walmart earnings...  \n",
       "1  Whipsaw week for stocks leaves markets 'on edg...  \n",
       "2  Down Between 12% and 24% From Their 52-Week Hi...  "
      ]
     },
     "execution_count": 28,
     "metadata": {},
     "output_type": "execute_result"
    }
   ],
   "source": [
    "df_unlabeled.head(3)"
   ]
  },
  {
   "cell_type": "code",
   "execution_count": 26,
   "id": "3bc88abc-4631-4fc1-bb83-1e37f73f29c2",
   "metadata": {},
   "outputs": [],
   "source": [
    "# Encode the unlabeled dataset with truncation and padding\n",
    "unlabeled_encodings = tokenizer(df_unlabeled['processed_txt'].tolist(), truncation=True, padding=True, max_length=MAX_LENGTH)\n",
    "\n",
    "unlabeled_dataset = Dataset.from_dict({\n",
    "    'input_ids': unlabeled_encodings['input_ids'],\n",
    "    'attention_mask': unlabeled_encodings['attention_mask']\n",
    "})"
   ]
  },
  {
   "cell_type": "code",
   "execution_count": 29,
   "id": "3c946686-6910-4741-89bd-4504c39fe413",
   "metadata": {},
   "outputs": [
    {
     "name": "stderr",
     "output_type": "stream",
     "text": [
      "***** Running Prediction *****\n",
      "  Num examples = 198\n",
      "  Batch size = 16\n"
     ]
    },
    {
     "data": {
      "text/html": [],
      "text/plain": [
       "<IPython.core.display.HTML object>"
      ]
     },
     "metadata": {},
     "output_type": "display_data"
    }
   ],
   "source": [
    "# Predict sentiment using the fine-tuned model\n",
    "predictions = trainer.predict(unlabeled_dataset)\n",
    "predicted_labels = predictions.predictions.argmax(-1)\n",
    "\n",
    "# Map numerical labels back to sentiment labels\n",
    "reverse_label_map = {0: \"negative\", 1: \"neutral\", 2: \"positive\"}\n",
    "df_unlabeled['predicted_sentiment'] = [reverse_label_map[label] for label in predicted_labels]\n",
    "\n"
   ]
  },
  {
   "cell_type": "code",
   "execution_count": 32,
   "id": "bb6991de-757a-4647-9ec1-1e9908ff5b57",
   "metadata": {},
   "outputs": [],
   "source": [
    "# Save the predictions to a CSV file\n",
    "df_unlabeled[['processed_txt', 'predicted_sentiment']].to_csv('../data/unlabeled_with_predicted_sentiment.txt', index=False)"
   ]
  },
  {
   "cell_type": "code",
   "execution_count": 30,
   "id": "a4d20986-2636-4302-a333-798313bda990",
   "metadata": {},
   "outputs": [
    {
     "data": {
      "text/html": [
       "<div>\n",
       "<style scoped>\n",
       "    .dataframe tbody tr th:only-of-type {\n",
       "        vertical-align: middle;\n",
       "    }\n",
       "\n",
       "    .dataframe tbody tr th {\n",
       "        vertical-align: top;\n",
       "    }\n",
       "\n",
       "    .dataframe thead th {\n",
       "        text-align: right;\n",
       "    }\n",
       "</style>\n",
       "<table border=\"1\" class=\"dataframe\">\n",
       "  <thead>\n",
       "    <tr style=\"text-align: right;\">\n",
       "      <th></th>\n",
       "      <th>newsHeadline</th>\n",
       "      <th>processed_txt</th>\n",
       "      <th>predicted_sentiment</th>\n",
       "    </tr>\n",
       "  </thead>\n",
       "  <tbody>\n",
       "    <tr>\n",
       "      <th>0</th>\n",
       "      <td>Inflation data, retail sales, Walmart earnings...</td>\n",
       "      <td>Inflation data, retail sales, Walmart earnings...</td>\n",
       "      <td>positive</td>\n",
       "    </tr>\n",
       "    <tr>\n",
       "      <th>1</th>\n",
       "      <td>Whipsaw week for stocks leaves markets 'on edg...</td>\n",
       "      <td>Whipsaw week for stocks leaves markets 'on edg...</td>\n",
       "      <td>neutral</td>\n",
       "    </tr>\n",
       "    <tr>\n",
       "      <th>2</th>\n",
       "      <td>Down Between 12% and 24% From Their 52-Week Hi...</td>\n",
       "      <td>Down Between 12% and 24% From Their 52-Week Hi...</td>\n",
       "      <td>negative</td>\n",
       "    </tr>\n",
       "    <tr>\n",
       "      <th>3</th>\n",
       "      <td>Traders Bet on Wild Swings With CPI Print Set ...</td>\n",
       "      <td>Traders Bet on Wild Swings With CPI Print Set ...</td>\n",
       "      <td>neutral</td>\n",
       "    </tr>\n",
       "    <tr>\n",
       "      <th>4</th>\n",
       "      <td>Down 60% This Year, Is Intel Stock a Bargain Buy?</td>\n",
       "      <td>Down 60% This Year, Is Intel Stock a Bargain Buy?</td>\n",
       "      <td>positive</td>\n",
       "    </tr>\n",
       "  </tbody>\n",
       "</table>\n",
       "</div>"
      ],
      "text/plain": [
       "                                        newsHeadline  \\\n",
       "0  Inflation data, retail sales, Walmart earnings...   \n",
       "1  Whipsaw week for stocks leaves markets 'on edg...   \n",
       "2  Down Between 12% and 24% From Their 52-Week Hi...   \n",
       "3  Traders Bet on Wild Swings With CPI Print Set ...   \n",
       "4  Down 60% This Year, Is Intel Stock a Bargain Buy?   \n",
       "\n",
       "                                       processed_txt predicted_sentiment  \n",
       "0  Inflation data, retail sales, Walmart earnings...            positive  \n",
       "1  Whipsaw week for stocks leaves markets 'on edg...             neutral  \n",
       "2  Down Between 12% and 24% From Their 52-Week Hi...            negative  \n",
       "3  Traders Bet on Wild Swings With CPI Print Set ...             neutral  \n",
       "4  Down 60% This Year, Is Intel Stock a Bargain Buy?            positive  "
      ]
     },
     "execution_count": 30,
     "metadata": {},
     "output_type": "execute_result"
    }
   ],
   "source": [
    "df_unlabeled.head()"
   ]
  },
  {
   "cell_type": "markdown",
   "id": "c76a833a-4da9-4c3c-ba3f-2a235bc04e3b",
   "metadata": {},
   "source": [
    "### BONUS: Claude Experimentation"
   ]
  },
  {
   "cell_type": "code",
   "execution_count": 39,
   "id": "7dc9ab54-962f-4ce4-85c3-a0e6e0f6984f",
   "metadata": {},
   "outputs": [],
   "source": [
    "df_claude = pd.read_csv('../data/claude-stock-headlines-sentiment-analysis.csv')"
   ]
  },
  {
   "cell_type": "code",
   "execution_count": 40,
   "id": "a69a459a-0e69-405c-8d4d-77d4f67883c7",
   "metadata": {},
   "outputs": [
    {
     "data": {
      "text/html": [
       "<div>\n",
       "<style scoped>\n",
       "    .dataframe tbody tr th:only-of-type {\n",
       "        vertical-align: middle;\n",
       "    }\n",
       "\n",
       "    .dataframe tbody tr th {\n",
       "        vertical-align: top;\n",
       "    }\n",
       "\n",
       "    .dataframe thead th {\n",
       "        text-align: right;\n",
       "    }\n",
       "</style>\n",
       "<table border=\"1\" class=\"dataframe\">\n",
       "  <thead>\n",
       "    <tr style=\"text-align: right;\">\n",
       "      <th></th>\n",
       "      <th>processed_txt</th>\n",
       "      <th>predicted_sentiment</th>\n",
       "      <th>claude_sentiment</th>\n",
       "    </tr>\n",
       "  </thead>\n",
       "  <tbody>\n",
       "    <tr>\n",
       "      <th>0</th>\n",
       "      <td>Inflation data, retail sales, Walmart earnings...</td>\n",
       "      <td>positive</td>\n",
       "      <td>neutral</td>\n",
       "    </tr>\n",
       "    <tr>\n",
       "      <th>1</th>\n",
       "      <td>Whipsaw week for stocks leaves markets 'on edg...</td>\n",
       "      <td>neutral</td>\n",
       "      <td>negative</td>\n",
       "    </tr>\n",
       "    <tr>\n",
       "      <th>2</th>\n",
       "      <td>Down Between 12% and 24% From Their 52-Week Hi...</td>\n",
       "      <td>negative</td>\n",
       "      <td>mixed</td>\n",
       "    </tr>\n",
       "    <tr>\n",
       "      <th>3</th>\n",
       "      <td>Traders Bet on Wild Swings With CPI Print Set ...</td>\n",
       "      <td>neutral</td>\n",
       "      <td>neutral</td>\n",
       "    </tr>\n",
       "    <tr>\n",
       "      <th>4</th>\n",
       "      <td>Down 60% This Year, Is Intel Stock a Bargain Buy?</td>\n",
       "      <td>positive</td>\n",
       "      <td>mixed</td>\n",
       "    </tr>\n",
       "  </tbody>\n",
       "</table>\n",
       "</div>"
      ],
      "text/plain": [
       "                                       processed_txt predicted_sentiment  \\\n",
       "0  Inflation data, retail sales, Walmart earnings...            positive   \n",
       "1  Whipsaw week for stocks leaves markets 'on edg...             neutral   \n",
       "2  Down Between 12% and 24% From Their 52-Week Hi...            negative   \n",
       "3  Traders Bet on Wild Swings With CPI Print Set ...             neutral   \n",
       "4  Down 60% This Year, Is Intel Stock a Bargain Buy?            positive   \n",
       "\n",
       "  claude_sentiment  \n",
       "0          neutral  \n",
       "1         negative  \n",
       "2            mixed  \n",
       "3          neutral  \n",
       "4            mixed  "
      ]
     },
     "execution_count": 40,
     "metadata": {},
     "output_type": "execute_result"
    }
   ],
   "source": [
    "df_claude.head()"
   ]
  },
  {
   "cell_type": "code",
   "execution_count": 45,
   "id": "1c33071d-a4ae-44e9-92d7-ae702f128fa9",
   "metadata": {},
   "outputs": [],
   "source": [
    "df_claude['equal_or_not'] = 0"
   ]
  },
  {
   "cell_type": "code",
   "execution_count": 58,
   "id": "5f726ee6-e43e-4b81-bd7c-8650102f19b6",
   "metadata": {},
   "outputs": [],
   "source": [
    "df_claude.loc[df_claude['predicted_sentiment'] == df_claude['claude_sentiment'], 'equal_or_not'] = 1"
   ]
  },
  {
   "cell_type": "code",
   "execution_count": 51,
   "id": "3668dabb-69a7-4b55-8aaf-1390fdf50f72",
   "metadata": {},
   "outputs": [
    {
     "data": {
      "text/html": [
       "<div>\n",
       "<style scoped>\n",
       "    .dataframe tbody tr th:only-of-type {\n",
       "        vertical-align: middle;\n",
       "    }\n",
       "\n",
       "    .dataframe tbody tr th {\n",
       "        vertical-align: top;\n",
       "    }\n",
       "\n",
       "    .dataframe thead th {\n",
       "        text-align: right;\n",
       "    }\n",
       "</style>\n",
       "<table border=\"1\" class=\"dataframe\">\n",
       "  <thead>\n",
       "    <tr style=\"text-align: right;\">\n",
       "      <th></th>\n",
       "      <th>processed_txt</th>\n",
       "      <th>predicted_sentiment</th>\n",
       "      <th>claude_sentiment</th>\n",
       "      <th>equal_or_not</th>\n",
       "    </tr>\n",
       "  </thead>\n",
       "  <tbody>\n",
       "    <tr>\n",
       "      <th>0</th>\n",
       "      <td>Inflation data, retail sales, Walmart earnings...</td>\n",
       "      <td>positive</td>\n",
       "      <td>neutral</td>\n",
       "      <td>0</td>\n",
       "    </tr>\n",
       "    <tr>\n",
       "      <th>1</th>\n",
       "      <td>Whipsaw week for stocks leaves markets 'on edg...</td>\n",
       "      <td>neutral</td>\n",
       "      <td>negative</td>\n",
       "      <td>0</td>\n",
       "    </tr>\n",
       "    <tr>\n",
       "      <th>2</th>\n",
       "      <td>Down Between 12% and 24% From Their 52-Week Hi...</td>\n",
       "      <td>negative</td>\n",
       "      <td>mixed</td>\n",
       "      <td>0</td>\n",
       "    </tr>\n",
       "    <tr>\n",
       "      <th>3</th>\n",
       "      <td>Traders Bet on Wild Swings With CPI Print Set ...</td>\n",
       "      <td>neutral</td>\n",
       "      <td>neutral</td>\n",
       "      <td>1</td>\n",
       "    </tr>\n",
       "    <tr>\n",
       "      <th>4</th>\n",
       "      <td>Down 60% This Year, Is Intel Stock a Bargain Buy?</td>\n",
       "      <td>positive</td>\n",
       "      <td>mixed</td>\n",
       "      <td>0</td>\n",
       "    </tr>\n",
       "    <tr>\n",
       "      <th>...</th>\n",
       "      <td>...</td>\n",
       "      <td>...</td>\n",
       "      <td>...</td>\n",
       "      <td>...</td>\n",
       "    </tr>\n",
       "    <tr>\n",
       "      <th>99</th>\n",
       "      <td>Buffett's Apple Share Dump Is Set to Reshape M...</td>\n",
       "      <td>negative</td>\n",
       "      <td>neutral</td>\n",
       "      <td>0</td>\n",
       "    </tr>\n",
       "    <tr>\n",
       "      <th>100</th>\n",
       "      <td>Stock market today: S&amp;P 500, Nasdaq rise, near...</td>\n",
       "      <td>positive</td>\n",
       "      <td>positive</td>\n",
       "      <td>1</td>\n",
       "    </tr>\n",
       "    <tr>\n",
       "      <th>101</th>\n",
       "      <td>Stocks Open Lower to Close Out a Volatile Trad...</td>\n",
       "      <td>negative</td>\n",
       "      <td>negative</td>\n",
       "      <td>1</td>\n",
       "    </tr>\n",
       "    <tr>\n",
       "      <th>102</th>\n",
       "      <td>Tech stocks, bitcoin above $60k, Powell under ...</td>\n",
       "      <td>positive</td>\n",
       "      <td>mixed</td>\n",
       "      <td>0</td>\n",
       "    </tr>\n",
       "    <tr>\n",
       "      <th>103</th>\n",
       "      <td>Stock Market News for Aug 9, 2024</td>\n",
       "      <td>NaN</td>\n",
       "      <td>NaN</td>\n",
       "      <td>0</td>\n",
       "    </tr>\n",
       "  </tbody>\n",
       "</table>\n",
       "<p>104 rows × 4 columns</p>\n",
       "</div>"
      ],
      "text/plain": [
       "                                         processed_txt predicted_sentiment  \\\n",
       "0    Inflation data, retail sales, Walmart earnings...            positive   \n",
       "1    Whipsaw week for stocks leaves markets 'on edg...             neutral   \n",
       "2    Down Between 12% and 24% From Their 52-Week Hi...            negative   \n",
       "3    Traders Bet on Wild Swings With CPI Print Set ...             neutral   \n",
       "4    Down 60% This Year, Is Intel Stock a Bargain Buy?            positive   \n",
       "..                                                 ...                 ...   \n",
       "99   Buffett's Apple Share Dump Is Set to Reshape M...            negative   \n",
       "100  Stock market today: S&P 500, Nasdaq rise, near...            positive   \n",
       "101  Stocks Open Lower to Close Out a Volatile Trad...            negative   \n",
       "102  Tech stocks, bitcoin above $60k, Powell under ...            positive   \n",
       "103                  Stock Market News for Aug 9, 2024                 NaN   \n",
       "\n",
       "    claude_sentiment  equal_or_not  \n",
       "0            neutral             0  \n",
       "1           negative             0  \n",
       "2              mixed             0  \n",
       "3            neutral             1  \n",
       "4              mixed             0  \n",
       "..               ...           ...  \n",
       "99           neutral             0  \n",
       "100         positive             1  \n",
       "101         negative             1  \n",
       "102            mixed             0  \n",
       "103              NaN             0  \n",
       "\n",
       "[104 rows x 4 columns]"
      ]
     },
     "execution_count": 51,
     "metadata": {},
     "output_type": "execute_result"
    }
   ],
   "source": [
    "df_claude"
   ]
  },
  {
   "cell_type": "code",
   "execution_count": 52,
   "id": "4ab383ea-f9d3-46d9-bf1f-0ce97f5354ec",
   "metadata": {},
   "outputs": [
    {
     "data": {
      "text/plain": [
       "equal_or_not\n",
       "1    59\n",
       "0    45\n",
       "Name: count, dtype: int64"
      ]
     },
     "execution_count": 52,
     "metadata": {},
     "output_type": "execute_result"
    }
   ],
   "source": [
    "df_claude.equal_or_not.value_counts()"
   ]
  },
  {
   "cell_type": "code",
   "execution_count": 55,
   "id": "c948eb5e-e18a-4353-bb32-ce0b7d547ff0",
   "metadata": {},
   "outputs": [],
   "source": [
    "df_claude.loc[df_claude['claude_sentiment'] == 'mixed', 'claude_sentiment'] = df_claude.loc[df_claude['claude_sentiment'] == 'mixed', 'predicted_sentiment']"
   ]
  },
  {
   "cell_type": "code",
   "execution_count": 59,
   "id": "44692570-586d-4108-983e-ae1718ca7e9b",
   "metadata": {},
   "outputs": [
    {
     "data": {
      "text/plain": [
       "equal_or_not\n",
       "1    81\n",
       "0    23\n",
       "Name: count, dtype: int64"
      ]
     },
     "execution_count": 59,
     "metadata": {},
     "output_type": "execute_result"
    }
   ],
   "source": [
    "df_claude.equal_or_not.value_counts()"
   ]
  },
  {
   "cell_type": "code",
   "execution_count": null,
   "id": "376b36ef-f650-4a84-880f-4a8f6ecf8ea0",
   "metadata": {},
   "outputs": [],
   "source": []
  }
 ],
 "metadata": {
  "kernelspec": {
   "display_name": "My Data Workfield",
   "language": "python",
   "name": "dataenv"
  },
  "language_info": {
   "codemirror_mode": {
    "name": "ipython",
    "version": 3
   },
   "file_extension": ".py",
   "mimetype": "text/x-python",
   "name": "python",
   "nbconvert_exporter": "python",
   "pygments_lexer": "ipython3",
   "version": "3.9.12"
  }
 },
 "nbformat": 4,
 "nbformat_minor": 5
}
