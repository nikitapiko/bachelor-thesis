{
 "cells": [
  {
   "cell_type": "code",
   "execution_count": 1,
   "id": "f8a9c416-8b2e-43f0-8f6e-c6e93f36472e",
   "metadata": {},
   "outputs": [],
   "source": [
    "import pandas as pd\n",
    "from sklearn.model_selection import train_test_split\n",
    "from sklearn.feature_extraction.text import TfidfVectorizer\n",
    "from sklearn.linear_model import LogisticRegression\n",
    "from sklearn.metrics import classification_report"
   ]
  },
  {
   "cell_type": "code",
   "execution_count": 4,
   "id": "893d7fd2-bfe7-47e2-9f74-9ac0e762e979",
   "metadata": {},
   "outputs": [],
   "source": [
    "# Load the labeled and unlabeled datasets\n",
    "labeled_df = pd.read_csv('../../data/processed/processed_for_logreg_labeled_data.csv')\n",
    "unlabeled_df = pd.read_csv('../../data/processed/processed_for_logreg_spx500_unlabeled_data.csv')"
   ]
  },
  {
   "cell_type": "code",
   "execution_count": 3,
   "id": "52bec5fd-3a2f-4be8-b14b-3965fa8c8ff8",
   "metadata": {},
   "outputs": [
    {
     "data": {
      "text/html": [
       "<div>\n",
       "<style scoped>\n",
       "    .dataframe tbody tr th:only-of-type {\n",
       "        vertical-align: middle;\n",
       "    }\n",
       "\n",
       "    .dataframe tbody tr th {\n",
       "        vertical-align: top;\n",
       "    }\n",
       "\n",
       "    .dataframe thead th {\n",
       "        text-align: right;\n",
       "    }\n",
       "</style>\n",
       "<table border=\"1\" class=\"dataframe\">\n",
       "  <thead>\n",
       "    <tr style=\"text-align: right;\">\n",
       "      <th></th>\n",
       "      <th>newsHeadline</th>\n",
       "      <th>sentiment</th>\n",
       "      <th>preprocessed_txt</th>\n",
       "    </tr>\n",
       "  </thead>\n",
       "  <tbody>\n",
       "    <tr>\n",
       "      <th>0</th>\n",
       "      <td>According to Gran , the company has no plans t...</td>\n",
       "      <td>neutral</td>\n",
       "      <td>according gran company plan move production ru...</td>\n",
       "    </tr>\n",
       "    <tr>\n",
       "      <th>1</th>\n",
       "      <td>Technopolis plans to develop in stages an area...</td>\n",
       "      <td>neutral</td>\n",
       "      <td>technopolis plan develop stage area less 10000...</td>\n",
       "    </tr>\n",
       "    <tr>\n",
       "      <th>2</th>\n",
       "      <td>The international electronic industry company ...</td>\n",
       "      <td>negative</td>\n",
       "      <td>international electronic industry company elco...</td>\n",
       "    </tr>\n",
       "    <tr>\n",
       "      <th>3</th>\n",
       "      <td>With the new production plant the company woul...</td>\n",
       "      <td>positive</td>\n",
       "      <td>new production plant company increase capacity...</td>\n",
       "    </tr>\n",
       "    <tr>\n",
       "      <th>4</th>\n",
       "      <td>According to the company 's updated strategy f...</td>\n",
       "      <td>positive</td>\n",
       "      <td>according company increasedated strategy year ...</td>\n",
       "    </tr>\n",
       "  </tbody>\n",
       "</table>\n",
       "</div>"
      ],
      "text/plain": [
       "                                        newsHeadline sentiment  \\\n",
       "0  According to Gran , the company has no plans t...   neutral   \n",
       "1  Technopolis plans to develop in stages an area...   neutral   \n",
       "2  The international electronic industry company ...  negative   \n",
       "3  With the new production plant the company woul...  positive   \n",
       "4  According to the company 's updated strategy f...  positive   \n",
       "\n",
       "                                    preprocessed_txt  \n",
       "0  according gran company plan move production ru...  \n",
       "1  technopolis plan develop stage area less 10000...  \n",
       "2  international electronic industry company elco...  \n",
       "3  new production plant company increase capacity...  \n",
       "4  according company increasedated strategy year ...  "
      ]
     },
     "execution_count": 3,
     "metadata": {},
     "output_type": "execute_result"
    }
   ],
   "source": [
    "labeled_df.head()"
   ]
  },
  {
   "cell_type": "code",
   "execution_count": 5,
   "id": "4a71dddc-9949-43d9-b9ec-9601144bf683",
   "metadata": {},
   "outputs": [
    {
     "data": {
      "text/html": [
       "<div>\n",
       "<style scoped>\n",
       "    .dataframe tbody tr th:only-of-type {\n",
       "        vertical-align: middle;\n",
       "    }\n",
       "\n",
       "    .dataframe tbody tr th {\n",
       "        vertical-align: top;\n",
       "    }\n",
       "\n",
       "    .dataframe thead th {\n",
       "        text-align: right;\n",
       "    }\n",
       "</style>\n",
       "<table border=\"1\" class=\"dataframe\">\n",
       "  <thead>\n",
       "    <tr style=\"text-align: right;\">\n",
       "      <th></th>\n",
       "      <th>Headlines</th>\n",
       "      <th>preprocessed_txt</th>\n",
       "    </tr>\n",
       "  </thead>\n",
       "  <tbody>\n",
       "    <tr>\n",
       "      <th>0</th>\n",
       "      <td>Inflation data, retail sales, Walmart earnings...</td>\n",
       "      <td>inflation data retail sale walmart earnings aw...</td>\n",
       "    </tr>\n",
       "    <tr>\n",
       "      <th>1</th>\n",
       "      <td>Whipsaw week for stocks leaves markets 'on edg...</td>\n",
       "      <td>whipsaw stock leaf market edge ahead busy econ...</td>\n",
       "    </tr>\n",
       "    <tr>\n",
       "      <th>2</th>\n",
       "      <td>Down Between 12% and 24% From Their 52-Week Hi...</td>\n",
       "      <td>12percent 24percent 52week high 3 magnificent ...</td>\n",
       "    </tr>\n",
       "    <tr>\n",
       "      <th>3</th>\n",
       "      <td>Traders Bet on Wild Swings With CPI Print Set ...</td>\n",
       "      <td>trader bet wild swing cpi print set test market</td>\n",
       "    </tr>\n",
       "    <tr>\n",
       "      <th>4</th>\n",
       "      <td>Down 60% This Year, Is Intel Stock a Bargain Buy?</td>\n",
       "      <td>60percent intel stock bargain buy</td>\n",
       "    </tr>\n",
       "  </tbody>\n",
       "</table>\n",
       "</div>"
      ],
      "text/plain": [
       "                                           Headlines  \\\n",
       "0  Inflation data, retail sales, Walmart earnings...   \n",
       "1  Whipsaw week for stocks leaves markets 'on edg...   \n",
       "2  Down Between 12% and 24% From Their 52-Week Hi...   \n",
       "3  Traders Bet on Wild Swings With CPI Print Set ...   \n",
       "4  Down 60% This Year, Is Intel Stock a Bargain Buy?   \n",
       "\n",
       "                                    preprocessed_txt  \n",
       "0  inflation data retail sale walmart earnings aw...  \n",
       "1  whipsaw stock leaf market edge ahead busy econ...  \n",
       "2  12percent 24percent 52week high 3 magnificent ...  \n",
       "3    trader bet wild swing cpi print set test market  \n",
       "4                  60percent intel stock bargain buy  "
      ]
     },
     "execution_count": 5,
     "metadata": {},
     "output_type": "execute_result"
    }
   ],
   "source": [
    "unlabeled_df.head()"
   ]
  },
  {
   "cell_type": "code",
   "execution_count": 7,
   "id": "1556b48c-3092-4d58-81b6-7374fc451029",
   "metadata": {},
   "outputs": [],
   "source": [
    "# Fill missing values in the preprocessed text column with empty strings\n",
    "labeled_df['preprocessed_txt'] = labeled_df['preprocessed_txt'].fillna('')\n",
    "\n",
    "# Define the features (X) and the target (y) again\n",
    "X = labeled_df['preprocessed_txt']\n",
    "y = labeled_df['encoded_sentiment']\n",
    "\n",
    "# Split the labeled data into training and test sets\n",
    "X_train, X_test, y_train, y_test = train_test_split(X, y, test_size=0.2, random_state=42)\n",
    "\n",
    "# Use TF-IDF Vectorizer to convert the text data into numerical features\n",
    "vectorizer = TfidfVectorizer(max_features=5000)\n",
    "X_train_tfidf = vectorizer.fit_transform(X_train)\n",
    "X_test_tfidf = vectorizer.transform(X_test)\n"
   ]
  },
  {
   "cell_type": "code",
   "execution_count": 23,
   "id": "a2ae7bea-1818-43de-98c6-651445440c16",
   "metadata": {},
   "outputs": [
    {
     "name": "stdout",
     "output_type": "stream",
     "text": [
      "              precision    recall  f1-score   support\n",
      "\n",
      "    negative       0.79      0.84      0.82       185\n",
      "     neutral       0.89      0.88      0.88       869\n",
      "    positive       0.76      0.76      0.76       368\n",
      "\n",
      "    accuracy                           0.84      1422\n",
      "   macro avg       0.81      0.82      0.82      1422\n",
      "weighted avg       0.84      0.84      0.84      1422\n",
      "\n"
     ]
    }
   ],
   "source": [
    "# Initialize and train the logistic regression model\n",
    "model = LogisticRegression(max_iter=1000, class_weight='balanced')\n",
    "model.fit(X_train_tfidf, y_train)\n",
    "\n",
    "# Evaluate the model on the test set (optional)\n",
    "y_pred = model.predict(X_test_tfidf)\n",
    "print(classification_report(y_test, y_pred, target_names=label_map.keys()))\n"
   ]
  },
  {
   "cell_type": "code",
   "execution_count": 24,
   "id": "28da05a6-8703-4c39-aeba-a5e8938d28a4",
   "metadata": {},
   "outputs": [],
   "source": [
    "# Transform the unlabeled data using the same TF-IDF vectorizer\n",
    "X_unlabeled_tfidf = vectorizer.transform(unlabeled_df['preprocessed_txt'])\n",
    "\n",
    "# Predict sentiment using the trained model\n",
    "unlabeled_df['predicted_sentiment'] = model.predict(X_unlabeled_tfidf)\n",
    "\n",
    "# Map the numerical predictions back to the textual sentiment labels\n",
    "reverse_label_map = {v: k for k, v in label_map.items()}\n",
    "unlabeled_df['predicted_sentiment_label'] = unlabeled_df['predicted_sentiment'].map(reverse_label_map)\n"
   ]
  },
  {
   "cell_type": "code",
   "execution_count": 26,
   "id": "0f64d7e9-1dd0-4567-8ef7-570829051966",
   "metadata": {},
   "outputs": [],
   "source": [
    "# Save the results with the predicted sentiments to a new CSV file\n",
    "unlabeled_df[['Headlines', 'preprocessed_txt', 'predicted_sentiment_label']].to_csv('predicted_spx500_sentiments.csv', index=False)\n"
   ]
  },
  {
   "cell_type": "code",
   "execution_count": 27,
   "id": "c3d858e9-3ba9-4f0e-9dbd-f00d077019aa",
   "metadata": {},
   "outputs": [
    {
     "data": {
      "text/plain": [
       "predicted_sentiment_label\n",
       "neutral     137\n",
       "positive     41\n",
       "negative     20\n",
       "Name: count, dtype: int64"
      ]
     },
     "execution_count": 27,
     "metadata": {},
     "output_type": "execute_result"
    }
   ],
   "source": [
    "unlabeled_df.predicted_sentiment_label.value_counts()"
   ]
  },
  {
   "cell_type": "code",
   "execution_count": 29,
   "id": "4d04c36e-e9c1-419c-acb4-487dfc68a720",
   "metadata": {},
   "outputs": [],
   "source": [
    "sent_counts = unlabeled_df.predicted_sentiment_label.value_counts()\n",
    "positive = sent_counts[1]\n",
    "neutral = sent_counts[0]\n",
    "negative = sent_counts[2]"
   ]
  },
  {
   "cell_type": "code",
   "execution_count": 31,
   "id": "c4f42d92-5dea-4f59-b258-287189fe57fe",
   "metadata": {},
   "outputs": [],
   "source": [
    "sent_val = (positive - negative) / (positive + negative + neutral)"
   ]
  },
  {
   "cell_type": "code",
   "execution_count": 32,
   "id": "a9404eb7-7258-43b1-b719-71c4a027bcb0",
   "metadata": {},
   "outputs": [
    {
     "data": {
      "text/plain": [
       "0.10606060606060606"
      ]
     },
     "execution_count": 32,
     "metadata": {},
     "output_type": "execute_result"
    }
   ],
   "source": [
    "sent_val"
   ]
  },
  {
   "cell_type": "code",
   "execution_count": 33,
   "id": "cfec5a5a-3201-4526-944f-1dc2fd05ebc8",
   "metadata": {},
   "outputs": [],
   "source": [
    "sent_val_100scale = ((sent_val + 1) / 2) * 100"
   ]
  },
  {
   "cell_type": "code",
   "execution_count": 36,
   "id": "21697a25-4a49-42ed-8ec9-46965ecced06",
   "metadata": {},
   "outputs": [],
   "source": [
    "with open('../../data/logreg_current_sentiment_value.txt', 'w') as file:\n",
    "    file.write(str(sent_val_100scale))"
   ]
  },
  {
   "cell_type": "code",
   "execution_count": null,
   "id": "fb1c8e75-bbf9-4a20-8d2b-21a901ba00a0",
   "metadata": {},
   "outputs": [],
   "source": []
  }
 ],
 "metadata": {
  "kernelspec": {
   "display_name": "My Data Workfield",
   "language": "python",
   "name": "dataenv"
  },
  "language_info": {
   "codemirror_mode": {
    "name": "ipython",
    "version": 3
   },
   "file_extension": ".py",
   "mimetype": "text/x-python",
   "name": "python",
   "nbconvert_exporter": "python",
   "pygments_lexer": "ipython3",
   "version": "3.9.12"
  }
 },
 "nbformat": 4,
 "nbformat_minor": 5
}
