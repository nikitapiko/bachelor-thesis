{
 "cells": [
  {
   "cell_type": "code",
   "execution_count": 1,
   "id": "1d408b85-b55f-42e8-a4bf-8b0e52d3ae9c",
   "metadata": {},
   "outputs": [],
   "source": [
    "import pandas as pd\n",
    "import numpy as np\n",
    "\n",
    "import matplotlib.pyplot as plt\n",
    "import plotly.graph_objs as go"
   ]
  },
  {
   "cell_type": "code",
   "execution_count": 2,
   "id": "486735a9-ca4c-4e86-a330-8762cb5c5ba0",
   "metadata": {},
   "outputs": [],
   "source": [
    "# Load the sentiment data from the CSV file\n",
    "sentiment_csv_path = '../data/sp500_headlines_sentiment.csv'\n",
    "sentiment_df = pd.read_csv(sentiment_csv_path)\n",
    "\n",
    "# Calculate the average sentiment score\n",
    "average_sentiment = sentiment_df['Compound'].mean()\n",
    "\n",
    "# Normalize the average sentiment to a 0-100 scale\n",
    "sentiment_index_value = (average_sentiment + 1) * 50"
   ]
  },
  {
   "cell_type": "code",
   "execution_count": 4,
   "id": "8fa80da8-0d2a-424f-ac8f-cd62287c59f7",
   "metadata": {},
   "outputs": [
    {
     "data": {
      "text/plain": [
       "0.046805050505050516"
      ]
     },
     "execution_count": 4,
     "metadata": {},
     "output_type": "execute_result"
    }
   ],
   "source": [
    "average_sentiment"
   ]
  },
  {
   "cell_type": "code",
   "execution_count": 3,
   "id": "78124543-0303-402d-889f-25d6447277d4",
   "metadata": {},
   "outputs": [
    {
     "data": {
      "text/plain": [
       "52.34025252525253"
      ]
     },
     "execution_count": 3,
     "metadata": {},
     "output_type": "execute_result"
    }
   ],
   "source": [
    "sentiment_index_value"
   ]
  },
  {
   "cell_type": "code",
   "execution_count": 10,
   "id": "ea3c9844-4855-41de-bb55-66fc6f47780c",
   "metadata": {},
   "outputs": [],
   "source": [
    "with open('../data/current_sentiment_index_value.txt', 'w') as file:\n",
    "    file.write(str(sentiment_index_value))"
   ]
  },
  {
   "cell_type": "code",
   "execution_count": null,
   "id": "36a980ad-a6b6-42a4-88b0-dc3ba7c77b63",
   "metadata": {},
   "outputs": [],
   "source": [
    "# Define the color scale based on the sentiment index\n",
    "if sentiment_index >= 70:\n",
    "    sentiment_color = \"green\"\n",
    "    sentiment_label = \"Greed\"\n",
    "elif sentiment_index >= 30:\n",
    "    sentiment_color = \"orange\"\n",
    "    sentiment_label = \"Neutral\"\n",
    "else:\n",
    "    sentiment_color = \"red\"\n",
    "    sentiment_label = \"Fear\"\n",
    "\n",
    "# Create the gauge chart using Plotly\n",
    "fig = go.Figure()\n",
    "\n",
    "# Add the gauge\n",
    "fig.add_trace(go.Indicator(\n",
    "    mode = \"gauge+number+delta\",\n",
    "    value = sentiment_index,\n",
    "    delta = {'reference': 50, 'increasing': {'color': \"green\"}, 'decreasing': {'color': \"red\"}},\n",
    "    gauge = {\n",
    "        'axis': {'range': [0, 100]},\n",
    "        'bar': {'color': sentiment_color},\n",
    "        'steps': [\n",
    "            {'range': [0, 30], 'color': \"red\"},\n",
    "            {'range': [30, 70], 'color': \"orange\"},\n",
    "            {'range': [70, 100], 'color': \"green\"}],\n",
    "        'threshold': {\n",
    "            'line': {'color': \"black\", 'width': 4},\n",
    "            'thickness': 0.75,\n",
    "            'value': sentiment_index}},\n",
    "    title = {'text': \"S&P 500 Sentiment Index\", 'font': {'size': 24}},\n",
    "    number = {'font': {'size': 36}},\n",
    "))\n",
    "\n",
    "# Add the sentiment label (Fear, Neutral, Greed)\n",
    "fig.add_annotation(x=0.5, y=0.3,\n",
    "                   text=f\"<b>Now:</b><br><span style='font-size:28px;color:{sentiment_color};'>{sentiment_label}</span>\",\n",
    "                   showarrow=False)\n",
    "\n",
    "# Update the layout to resemble the provided image\n",
    "fig.update_layout(\n",
    "    font={'color': \"black\", 'family': \"Arial\"},\n",
    "    margin=dict(l=20, r=20, t=100, b=40),\n",
    "    height=450,\n",
    "    width=500,\n",
    "    paper_bgcolor=\"white\",\n",
    ")\n",
    "\n",
    "# Show the plot\n",
    "fig.show()"
   ]
  },
  {
   "cell_type": "code",
   "execution_count": 11,
   "id": "fb672031-ad9a-4991-a41c-6acd8f7e828d",
   "metadata": {},
   "outputs": [],
   "source": [
    "import fear_and_greed"
   ]
  },
  {
   "cell_type": "code",
   "execution_count": 15,
   "id": "254dfc18-6591-4f9b-b7c3-0fa5b53b658c",
   "metadata": {},
   "outputs": [],
   "source": [
    "cnn_tuple = fear_and_greed.get() \n",
    "cnn_val = cnn_tuple[0]\n",
    "cnn_descr = cnn_tuple[1]"
   ]
  },
  {
   "cell_type": "code",
   "execution_count": null,
   "id": "78879914-dc5d-43e7-81a0-dfdeb89df035",
   "metadata": {},
   "outputs": [],
   "source": []
  }
 ],
 "metadata": {
  "kernelspec": {
   "display_name": "My Data Workfield",
   "language": "python",
   "name": "dataenv"
  },
  "language_info": {
   "codemirror_mode": {
    "name": "ipython",
    "version": 3
   },
   "file_extension": ".py",
   "mimetype": "text/x-python",
   "name": "python",
   "nbconvert_exporter": "python",
   "pygments_lexer": "ipython3",
   "version": "3.9.12"
  }
 },
 "nbformat": 4,
 "nbformat_minor": 5
}
