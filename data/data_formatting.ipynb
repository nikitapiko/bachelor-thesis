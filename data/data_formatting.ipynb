{
 "cells": [
  {
   "cell_type": "code",
   "execution_count": 1,
   "id": "38e63bc7-94ed-4fe5-8cd3-347ebb444bda",
   "metadata": {},
   "outputs": [],
   "source": [
    "import pandas as pd"
   ]
  },
  {
   "cell_type": "code",
   "execution_count": 3,
   "id": "adf143d1-12b5-4b61-8965-567ef523ce5d",
   "metadata": {},
   "outputs": [],
   "source": [
    "df = pd.read_csv(\"sp500_sentiment_finbert+claude.csv\")"
   ]
  },
  {
   "cell_type": "code",
   "execution_count": 4,
   "id": "a13264fc-37ac-4664-b7f8-bb70740ec5bc",
   "metadata": {},
   "outputs": [
    {
     "data": {
      "text/html": [
       "<div>\n",
       "<style scoped>\n",
       "    .dataframe tbody tr th:only-of-type {\n",
       "        vertical-align: middle;\n",
       "    }\n",
       "\n",
       "    .dataframe tbody tr th {\n",
       "        vertical-align: top;\n",
       "    }\n",
       "\n",
       "    .dataframe thead th {\n",
       "        text-align: right;\n",
       "    }\n",
       "</style>\n",
       "<table border=\"1\" class=\"dataframe\">\n",
       "  <thead>\n",
       "    <tr style=\"text-align: right;\">\n",
       "      <th></th>\n",
       "      <th>processed_txt</th>\n",
       "      <th>predicted_sentiment</th>\n",
       "      <th>claude_sentiment</th>\n",
       "    </tr>\n",
       "  </thead>\n",
       "  <tbody>\n",
       "    <tr>\n",
       "      <th>0</th>\n",
       "      <td>Inflation data, retail sales, Walmart earnings...</td>\n",
       "      <td>positive</td>\n",
       "      <td>neutral</td>\n",
       "    </tr>\n",
       "    <tr>\n",
       "      <th>1</th>\n",
       "      <td>Whipsaw week for stocks leaves markets 'on edg...</td>\n",
       "      <td>neutral</td>\n",
       "      <td>negative</td>\n",
       "    </tr>\n",
       "    <tr>\n",
       "      <th>2</th>\n",
       "      <td>Down Between 12% and 24% From Their 52-Week Hi...</td>\n",
       "      <td>negative</td>\n",
       "      <td>mixed</td>\n",
       "    </tr>\n",
       "    <tr>\n",
       "      <th>3</th>\n",
       "      <td>Traders Bet on Wild Swings With CPI Print Set ...</td>\n",
       "      <td>neutral</td>\n",
       "      <td>neutral</td>\n",
       "    </tr>\n",
       "    <tr>\n",
       "      <th>4</th>\n",
       "      <td>Down 60% This Year, Is Intel Stock a Bargain Buy?</td>\n",
       "      <td>positive</td>\n",
       "      <td>mixed</td>\n",
       "    </tr>\n",
       "  </tbody>\n",
       "</table>\n",
       "</div>"
      ],
      "text/plain": [
       "                                       processed_txt predicted_sentiment  \\\n",
       "0  Inflation data, retail sales, Walmart earnings...            positive   \n",
       "1  Whipsaw week for stocks leaves markets 'on edg...             neutral   \n",
       "2  Down Between 12% and 24% From Their 52-Week Hi...            negative   \n",
       "3  Traders Bet on Wild Swings With CPI Print Set ...             neutral   \n",
       "4  Down 60% This Year, Is Intel Stock a Bargain Buy?            positive   \n",
       "\n",
       "  claude_sentiment  \n",
       "0          neutral  \n",
       "1         negative  \n",
       "2            mixed  \n",
       "3          neutral  \n",
       "4            mixed  "
      ]
     },
     "execution_count": 4,
     "metadata": {},
     "output_type": "execute_result"
    }
   ],
   "source": [
    "df.head()"
   ]
  },
  {
   "cell_type": "code",
   "execution_count": 5,
   "id": "b795ecbd-27a6-4d0d-8c09-372b63190259",
   "metadata": {},
   "outputs": [],
   "source": [
    "df.rename(columns={'predicted_sentiment': 'finbert_sentiment'}, inplace=True)"
   ]
  },
  {
   "cell_type": "code",
   "execution_count": 8,
   "id": "b5b4d7c5-c57e-442a-af6e-8e0e2e642e2e",
   "metadata": {},
   "outputs": [],
   "source": [
    "df.to_csv('../data/sp500_sentiment_finbert+claude.csv', index=False)"
   ]
  },
  {
   "cell_type": "code",
   "execution_count": null,
   "id": "659b6ef7-7df0-4e95-adb2-ba87796176b3",
   "metadata": {},
   "outputs": [],
   "source": []
  }
 ],
 "metadata": {
  "kernelspec": {
   "display_name": "My Data Workfield",
   "language": "python",
   "name": "dataenv"
  },
  "language_info": {
   "codemirror_mode": {
    "name": "ipython",
    "version": 3
   },
   "file_extension": ".py",
   "mimetype": "text/x-python",
   "name": "python",
   "nbconvert_exporter": "python",
   "pygments_lexer": "ipython3",
   "version": "3.9.12"
  }
 },
 "nbformat": 4,
 "nbformat_minor": 5
}
