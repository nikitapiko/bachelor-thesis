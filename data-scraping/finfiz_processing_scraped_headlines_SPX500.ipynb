{
 "cells": [
  {
   "cell_type": "code",
   "execution_count": 7,
   "id": "ffd4b69c-137c-4983-9a81-d4ce886bf2f3",
   "metadata": {},
   "outputs": [],
   "source": [
    "import pandas as pd\n",
    "import requests\n",
    "from bs4 import BeautifulSoup"
   ]
  },
  {
   "cell_type": "code",
   "execution_count": 8,
   "id": "dec38261-5765-423b-b235-54a2092ccd98",
   "metadata": {},
   "outputs": [],
   "source": [
    "response = requests.get('https://finviz.com/map.ashx')"
   ]
  },
  {
   "cell_type": "code",
   "execution_count": 13,
   "id": "fe5cfef0-2098-41fd-ae92-08862c42bbe7",
   "metadata": {},
   "outputs": [],
   "source": [
    "df = pd.read_csv('headlines.csv')"
   ]
  },
  {
   "cell_type": "code",
   "execution_count": 14,
   "id": "645dd555-49e0-4b2b-b673-ec71ba32b2b7",
   "metadata": {},
   "outputs": [
    {
     "data": {
      "text/html": [
       "<div>\n",
       "<style scoped>\n",
       "    .dataframe tbody tr th:only-of-type {\n",
       "        vertical-align: middle;\n",
       "    }\n",
       "\n",
       "    .dataframe tbody tr th {\n",
       "        vertical-align: top;\n",
       "    }\n",
       "\n",
       "    .dataframe thead th {\n",
       "        text-align: right;\n",
       "    }\n",
       "</style>\n",
       "<table border=\"1\" class=\"dataframe\">\n",
       "  <thead>\n",
       "    <tr style=\"text-align: right;\">\n",
       "      <th></th>\n",
       "      <th>newsHeadline</th>\n",
       "      <th>URL</th>\n",
       "    </tr>\n",
       "  </thead>\n",
       "  <tbody>\n",
       "    <tr>\n",
       "      <th>0</th>\n",
       "      <td>&lt;msg timestamp=\"20240906 00:15:27.599\" level=\"...</td>\n",
       "      <td>https://finance.yahoo.com/m/5c646a54-db20-3468...</td>\n",
       "    </tr>\n",
       "    <tr>\n",
       "      <th>1</th>\n",
       "      <td>&lt;msg timestamp=\"20240906 00:15:27.631\" level=\"...</td>\n",
       "      <td>https://finance.yahoo.com/news/august-jobs-rep...</td>\n",
       "    </tr>\n",
       "    <tr>\n",
       "      <th>2</th>\n",
       "      <td>&lt;msg timestamp=\"20240906 00:15:27.665\" level=\"...</td>\n",
       "      <td>https://finance.yahoo.com/m/1d46dc5b-69f0-35ff...</td>\n",
       "    </tr>\n",
       "    <tr>\n",
       "      <th>3</th>\n",
       "      <td>&lt;msg timestamp=\"20240906 00:15:27.694\" level=\"...</td>\n",
       "      <td>https://finance.yahoo.com/m/f4e8e132-3405-353a...</td>\n",
       "    </tr>\n",
       "    <tr>\n",
       "      <th>4</th>\n",
       "      <td>&lt;msg timestamp=\"20240906 00:15:27.762\" level=\"...</td>\n",
       "      <td>https://finance.yahoo.com/news/what-investors-...</td>\n",
       "    </tr>\n",
       "  </tbody>\n",
       "</table>\n",
       "</div>"
      ],
      "text/plain": [
       "                                        newsHeadline  \\\n",
       "0  <msg timestamp=\"20240906 00:15:27.599\" level=\"...   \n",
       "1  <msg timestamp=\"20240906 00:15:27.631\" level=\"...   \n",
       "2  <msg timestamp=\"20240906 00:15:27.665\" level=\"...   \n",
       "3  <msg timestamp=\"20240906 00:15:27.694\" level=\"...   \n",
       "4  <msg timestamp=\"20240906 00:15:27.762\" level=\"...   \n",
       "\n",
       "                                                 URL  \n",
       "0  https://finance.yahoo.com/m/5c646a54-db20-3468...  \n",
       "1  https://finance.yahoo.com/news/august-jobs-rep...  \n",
       "2  https://finance.yahoo.com/m/1d46dc5b-69f0-35ff...  \n",
       "3  https://finance.yahoo.com/m/f4e8e132-3405-353a...  \n",
       "4  https://finance.yahoo.com/news/what-investors-...  "
      ]
     },
     "execution_count": 14,
     "metadata": {},
     "output_type": "execute_result"
    }
   ],
   "source": [
    "df.head()"
   ]
  },
  {
   "cell_type": "code",
   "execution_count": 22,
   "id": "c3bed55d-b90a-427a-b8a8-790eb67cc4fa",
   "metadata": {},
   "outputs": [],
   "source": [
    "df.newsHeadline = df.newsHeadline.apply(lambda x: x[52:])  # first 52 characters are metadata"
   ]
  },
  {
   "cell_type": "code",
   "execution_count": 23,
   "id": "744f3356-ca7f-42b7-91f0-05e2f3c7e829",
   "metadata": {},
   "outputs": [],
   "source": [
    "df.URL = df.URL.apply(lambda x: x[:-6])  # last 6 characters are </msg>"
   ]
  },
  {
   "cell_type": "code",
   "execution_count": 27,
   "id": "83d8a546-6490-43e5-bc04-be8084a06f25",
   "metadata": {},
   "outputs": [],
   "source": [
    "# saving the preprocessed headlines to data folder for further NLP preproessing and model training\n",
    "df.to_csv(\"../data/sp500_headlines_finviz.csv\", index=False) "
   ]
  },
  {
   "cell_type": "code",
   "execution_count": null,
   "id": "eab94f4b-b089-479a-906f-4d10db8dc723",
   "metadata": {},
   "outputs": [],
   "source": []
  }
 ],
 "metadata": {
  "kernelspec": {
   "display_name": "My Data Workfield",
   "language": "python",
   "name": "dataenv"
  },
  "language_info": {
   "codemirror_mode": {
    "name": "ipython",
    "version": 3
   },
   "file_extension": ".py",
   "mimetype": "text/x-python",
   "name": "python",
   "nbconvert_exporter": "python",
   "pygments_lexer": "ipython3",
   "version": "3.9.12"
  }
 },
 "nbformat": 4,
 "nbformat_minor": 5
}
